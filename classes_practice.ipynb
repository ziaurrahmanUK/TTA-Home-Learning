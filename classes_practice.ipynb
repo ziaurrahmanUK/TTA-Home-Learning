{
 "cells": [
  {
   "cell_type": "markdown",
   "metadata": {},
   "source": [
    "<h1>EXERCISE 1</h1>\n",
    "\n",
    " \n",
    " 1 Create a class, Triangle. Its __init__() method should take self, angle1, angle2, and angle3 as arguments. Make sure to set these appropriately in the body of the __init__()method.\n",
    " \n",
    "2 Create a variable named number_of_sides and set it equal to 3.\n",
    "\n",
    "3 Create a method named check_angles. The sum of a triangle's three angles is It should return True if the sum of self.angle1, self.angle2, and self.angle3 is equal 180, and False otherwise.\n",
    "\n",
    "4 Create a variable named my_triangle and set it equal to a new instance of your Triangle class. Pass it three angles that sum to 180 (e.g. 90, 30, 60).\n",
    "\n",
    "5 Print out my_triangle.number_of_sides and print out my_triangle.check_angles()"
   ]
  },
  {
   "cell_type": "code",
   "execution_count": 53,
   "metadata": {},
   "outputs": [],
   "source": [
    "class Triangle:\n",
    "    \n",
    "    \n",
    "\n",
    "    def __init__(self, angle1, angle2, angle3):\n",
    "        self.angle1 = angle1\n",
    "        self.angle2 = angle2\n",
    "        self.angle3 = angle3\n",
    "        self.number_of_sides = 3\n",
    "\n",
    "    def check_angles(self):\n",
    "        \n",
    "        return self.angle1 + self.angle2 + self.angle3 == 180\n"
   ]
  },
  {
   "cell_type": "code",
   "execution_count": 54,
   "metadata": {},
   "outputs": [],
   "source": [
    "my_triangle = Triangle(90, 30, 60)"
   ]
  },
  {
   "cell_type": "code",
   "execution_count": 55,
   "metadata": {},
   "outputs": [
    {
     "name": "stdout",
     "output_type": "stream",
     "text": [
      "3\n"
     ]
    }
   ],
   "source": [
    "print(my_triangle.number_of_sides)\n"
   ]
  },
  {
   "cell_type": "code",
   "execution_count": 56,
   "metadata": {},
   "outputs": [
    {
     "name": "stdout",
     "output_type": "stream",
     "text": [
      "True\n"
     ]
    }
   ],
   "source": [
    "print(my_triangle.check_angles())"
   ]
  },
  {
   "cell_type": "markdown",
   "metadata": {},
   "source": [
    "<h1>EXERCISE 2</h1>\n",
    "\n",
    "1 Define a class called Songs, it will show the lyrics of a song. Its __init__() method should have two arguments:self and lyrics.lyrics is a list. \n",
    "\n",
    "2 Inside your class create a method called sing_me_a_song that prints each element of lyrics on its own line. \n",
    "\n",
    "3 Define a varible: happy_bday = Song([\"May god bless you, \",\n",
    "                   \"Have a sunshine on you,\",\n",
    "                   \"Happy Birthday to you !\"])\n",
    "\n",
    "4 Call the sing_me_song method on this variable.\n"
   ]
  },
  {
   "cell_type": "code",
   "execution_count": 57,
   "metadata": {},
   "outputs": [],
   "source": [
    "class Songs:\n",
    "    def __init__(self, lyrics):\n",
    "        self.lyrics = lyrics\n",
    "\n",
    "    def sing_me_a_song(self):\n",
    "        for sentence in self.lyrics:\n",
    "            print(sentence, end = \"\\n\")"
   ]
  },
  {
   "cell_type": "code",
   "execution_count": 58,
   "metadata": {},
   "outputs": [],
   "source": [
    "happy_bday = Songs([\"May god bless you, \",\n",
    "                   \"Have a sunshine on you,\",\n",
    "                   \"Happy Birthday to you !\"])\n",
    "\n"
   ]
  },
  {
   "cell_type": "code",
   "execution_count": 59,
   "metadata": {},
   "outputs": [
    {
     "name": "stdout",
     "output_type": "stream",
     "text": [
      "May god bless you, \n",
      "Have a sunshine on you,\n",
      "Happy Birthday to you !\n"
     ]
    }
   ],
   "source": [
    "happy_bday.sing_me_a_song()\n"
   ]
  },
  {
   "cell_type": "markdown",
   "metadata": {},
   "source": [
    "<h1> Exercise 3 </h1>\n",
    "\n",
    "1 Define a Point3D class that inherits from object Inside the Point3D class\n",
    "\n",
    "2 define an __init__() function that accepts self, x, y, and z, and assigns these numbers to the member variables self.x,self.y,self.z.\n",
    "\n",
    "3  Define a __repr__() method that returns \"(%d, %d, %d)\" % (self.x, self.y, self.z). This tells Python to represent this object in the following format: (x, y, z). \n",
    "\n",
    "4 Outside the class definition, create a variable named my_point containing a new instance of Point3D with x=1, y=2, and z=3. \n",
    "\n",
    "5 Finally, print my_point."
   ]
  },
  {
   "cell_type": "code",
   "execution_count": 60,
   "metadata": {},
   "outputs": [],
   "source": [
    "class Point3D:\n",
    "    def __init__(self, x, y, z):\n",
    "        self.x = x\n",
    "        self.y = y\n",
    "        self.z = z\n",
    "    \n",
    "    def __repr__(self):\n",
    "        return f\"({self.x}, {self.y}, {self.z})\"\n",
    "\n"
   ]
  },
  {
   "cell_type": "code",
   "execution_count": 61,
   "metadata": {},
   "outputs": [
    {
     "name": "stdout",
     "output_type": "stream",
     "text": [
      "(1, 2, 3)\n"
     ]
    }
   ],
   "source": [
    "my_point = Point3D(1, 2, 3)\n",
    "print(my_point)"
   ]
  },
  {
   "cell_type": "markdown",
   "metadata": {},
   "source": [
    "class Address:\n",
    "def __init__(self, street, num):\n",
    "self.street_name = street\n",
    "self.number = num\n",
    "\n",
    "She now wants to make a subclass of the class Address called CampusAddress that has a new attribute, office number,\n",
    "that can vary. This subclass will always have the street attribute set to Massachusetts Ave and the num attribute\n",
    "set to 77. She wants to use the class as follows:\n",
    "\n",
    " Sarina_addr = CampusAddress(\"32-G904\")\n",
    "Sarina_addr.office_number # ’32G-904’\n",
    "Sarina_addr.street_name\n",
    "’Massachusetts Ave’\n",
    "Sarina_addr.number\n",
    "Alyssa is stuck and needs your help. Please help her implement the CampusAddress class; look at exercise 4.5,\n",
    "particularly the implementations of the two subclasses Accio and Confundo, if you’re stuck."
   ]
  },
  {
   "cell_type": "code",
   "execution_count": 62,
   "metadata": {},
   "outputs": [],
   "source": [
    "class Address:\n",
    "    def __init__(self, street, num):\n",
    "        self.street_name = street\n",
    "        self.number = num\n",
    "\n",
    "class CampusAddress(Address):\n",
    "    def __init__(self, office):\n",
    "        super().__init__(\"Massachusetts Ave\", 77)\n",
    "        self.office_number = office"
   ]
  },
  {
   "cell_type": "code",
   "execution_count": 63,
   "metadata": {},
   "outputs": [],
   "source": [
    "sarina_addr = CampusAddress(\"32-G904\")"
   ]
  },
  {
   "cell_type": "code",
   "execution_count": 64,
   "metadata": {},
   "outputs": [
    {
     "name": "stdout",
     "output_type": "stream",
     "text": [
      "32-G904 Massachusetts Ave 77\n"
     ]
    }
   ],
   "source": [
    "print(sarina_addr.office_number, sarina_addr.street_name, sarina_addr.number)"
   ]
  }
 ],
 "metadata": {
  "interpreter": {
   "hash": "51785c74230e6384e41df094c48c18fde00cf6ec68dc6e31ed41f8a90d6b45cf"
  },
  "kernelspec": {
   "display_name": "Python 3.8.10 64-bit (windows store)",
   "language": "python",
   "name": "python3"
  },
  "language_info": {
   "codemirror_mode": {
    "name": "ipython",
    "version": 3
   },
   "file_extension": ".py",
   "mimetype": "text/x-python",
   "name": "python",
   "nbconvert_exporter": "python",
   "pygments_lexer": "ipython3",
   "version": "3.8.10"
  },
  "orig_nbformat": 4
 },
 "nbformat": 4,
 "nbformat_minor": 2
}
