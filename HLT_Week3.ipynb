{
 "cells": [
  {
   "cell_type": "markdown",
   "metadata": {},
   "source": [
    "\n",
    "Create your own Flow Diagram, a subject of your \n",
    "own choice, Example: Fast food order and convert it \n",
    "into code. see 'HLT_Week3_Flow_Diagram.pdf'"
   ]
  },
  {
   "cell_type": "markdown",
   "metadata": {},
   "source": [
    "As an extension to the motorbike task that costs \n",
    "£2000 and loses 10% of its value every year. Set up \n",
    "a function that performs the calculation by passing \n",
    "in parameters. Then using a loop, print the value of \n",
    "the bike every following year until it falls below \n",
    "£1000"
   ]
  },
  {
   "cell_type": "code",
   "execution_count": 138,
   "metadata": {},
   "outputs": [],
   "source": [
    "# This function will depreciate value of an object by the depreciationPercent\n",
    "def depreciation_function( moto_value, depreciationPercent):\n",
    "    \n",
    "    while moto_value > 1000:\n",
    "        print(f\"The moto costs £{moto_value:.2f}\")\n",
    "        moto_value *= ((100 - depreciationPercent) / 100)\n",
    "    "
   ]
  },
  {
   "cell_type": "code",
   "execution_count": 139,
   "metadata": {},
   "outputs": [
    {
     "name": "stdout",
     "output_type": "stream",
     "text": [
      "The moto costs £2000.00\n",
      "The moto costs £1800.00\n",
      "The moto costs £1620.00\n",
      "The moto costs £1458.00\n",
      "The moto costs £1312.20\n",
      "The moto costs £1180.98\n",
      "The moto costs £1062.88\n"
     ]
    }
   ],
   "source": [
    "moto_value ,  depreciationPercent = 2000, 10\n",
    "\n",
    "depreciation_function( moto_value, depreciationPercent )\n"
   ]
  },
  {
   "cell_type": "markdown",
   "metadata": {},
   "source": [
    "Write a program which will ask for two numbers \n",
    "from a user. Then offer an option menu to the user \n",
    "giving them a choice of maths operators. Once the \n",
    "user has selected which operator they wish to use, \n",
    "perform the calculation by using a procedure and \n",
    "passing parameters."
   ]
  },
  {
   "cell_type": "code",
   "execution_count": 140,
   "metadata": {},
   "outputs": [],
   "source": [
    "def calculator_function():\n",
    "    first_num = int(input(\"Please enter a number that is positive or negative or zero\"))\n",
    "    second_num = int(input(\"Please enter a number that is positive or negative, but CANNOT be zero\"))\n",
    "    operation_to_do = input(\"Please enter + to ADD or s to - or / to DIVIDE or * to MULTIPLY or ** to EXPONENTIATE, or q to Quit\")\n",
    "    calculate(first_num, second_num, operation_to_do)\n",
    "\n",
    "def calculate(num1, num2, operation):\n",
    "    if operation == \"+\":\n",
    "        print(f\"{num1} + {num2} = {num1 + num2}\")\n",
    "    elif operation == \"-\" :\n",
    "        print(f\"{num1} - {num2} = {num1 - num2}\")\n",
    "    elif operation == \"**\":\n",
    "        print(f\"{num1} ^ {num2} = {num1 ** num2}\")\n",
    "    elif operation == \"*\":\n",
    "        print(f\"{num1} * {num2} = {num1 * num2}\")\n",
    "    elif operation == \"-\":\n",
    "        print(f\"{num1} - {num2} = {num1 - num2}\")\n",
    "    "
   ]
  },
  {
   "cell_type": "code",
   "execution_count": 141,
   "metadata": {},
   "outputs": [
    {
     "name": "stdout",
     "output_type": "stream",
     "text": [
      "2 ^ 64 = 18446744073709551616\n"
     ]
    }
   ],
   "source": [
    "calculator_function()\n"
   ]
  },
  {
   "cell_type": "code",
   "execution_count": null,
   "metadata": {},
   "outputs": [],
   "source": []
  }
 ],
 "metadata": {
  "interpreter": {
   "hash": "bbd44b1c2c3135a4f1eee1af39abdc9637d97b18f8e070f0b414e53e003f559b"
  },
  "kernelspec": {
   "display_name": "Python 3.9.7 ('base')",
   "language": "python",
   "name": "python3"
  },
  "language_info": {
   "codemirror_mode": {
    "name": "ipython",
    "version": 3
   },
   "file_extension": ".py",
   "mimetype": "text/x-python",
   "name": "python",
   "nbconvert_exporter": "python",
   "pygments_lexer": "ipython3",
   "version": "3.9.7"
  },
  "orig_nbformat": 4
 },
 "nbformat": 4,
 "nbformat_minor": 2
}
