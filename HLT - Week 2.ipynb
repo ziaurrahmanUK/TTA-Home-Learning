{
 "cells": [
  {
   "cell_type": "markdown",
   "metadata": {},
   "source": [
    "<h3>Task 1</h3>  \n",
    "Write a program that does the following:\n",
    "* a) Stores a random number (1-10) in a variable – see hint below.\n",
    "* b) Asks a user for their name and stores this in a variable.\n",
    "* c) Asks a user to guess the number between 1 and 10.\n",
    "* d) Tells the user whether they have guessed correctly."
   ]
  },
  {
   "cell_type": "code",
   "execution_count": 15,
   "metadata": {},
   "outputs": [],
   "source": [
    "# This program stores a random number between 1 and 10\n",
    "import random\n",
    "\n",
    "random_variable = random.randint(1, 10,)\n",
    "# print(random_variable)"
   ]
  },
  {
   "cell_type": "code",
   "execution_count": 14,
   "metadata": {},
   "outputs": [
    {
     "name": "stdout",
     "output_type": "stream",
     "text": [
      "Ziaur Rahman\n"
     ]
    }
   ],
   "source": [
    "users_name = input(\"Please enter your first name and surname\")\n",
    "print(users_name)"
   ]
  },
  {
   "cell_type": "code",
   "execution_count": 16,
   "metadata": {},
   "outputs": [],
   "source": [
    "guess = input(\"Please guess an integer number between 1 and 10\")"
   ]
  },
  {
   "cell_type": "code",
   "execution_count": 18,
   "metadata": {},
   "outputs": [
    {
     "name": "stdout",
     "output_type": "stream",
     "text": [
      "Ziaur Rahman guess was incorrect and the number was 1\n"
     ]
    }
   ],
   "source": [
    "if guess == random_variable:\n",
    "    print(f\"{users_name} has guessed the correct number that was {random_variable}\")\n",
    "else:\n",
    "    print(f\"{users_name} guess was incorrect and the number was {random_variable}\")"
   ]
  },
  {
   "cell_type": "markdown",
   "metadata": {},
   "source": [
    "<h3>Task 2</h3> \n",
    "Write a program that asks a user for their favourite number between 1 \n",
    "and 100 and then tells them a joke based on the number. You should \n",
    "use a minimum of 3 jokes. "
   ]
  },
  {
   "cell_type": "code",
   "execution_count": 21,
   "metadata": {},
   "outputs": [
    {
     "name": "stdout",
     "output_type": "stream",
     "text": [
      "You chose the number 34\n"
     ]
    }
   ],
   "source": [
    "favourite_number = int(input(\"Please enter your favourite number between 1 and 100\"))\n",
    "print(f\"You chose the number {favourite_number}\")"
   ]
  },
  {
   "cell_type": "code",
   "execution_count": 22,
   "metadata": {},
   "outputs": [
    {
     "name": "stdout",
     "output_type": "stream",
     "text": [
      "Funny Joke 1\n"
     ]
    }
   ],
   "source": [
    "if favourite_number > 1 and favourite_number <= 34:\n",
    "    print(\"Funny Joke 1\")\n",
    "elif favourite_number >=35 and favourite_number <=70:\n",
    "    print(\"Funny Joke 2\")\n",
    "else:\n",
    "    print(\"Funny Joke 3\")"
   ]
  },
  {
   "cell_type": "markdown",
   "metadata": {},
   "source": [
    "<h3> Task 3 </h3>\n",
    "Write a program that allows user to enter their favourite starter, main \n",
    "course, dessert and drink.\n",
    "Concatenate these and output a message which says – “Your favourite \n",
    "meal is ………with a glass of….”"
   ]
  },
  {
   "cell_type": "code",
   "execution_count": 26,
   "metadata": {},
   "outputs": [],
   "source": [
    "starter = input(\"Please enter your favourite starter\")\n",
    "main = input(\"Please enter your favourite main\")\n",
    "dessert = input(\"Please enter your favourite dessert\")\n",
    "drink = input(\"Please enter your favourite drink\")\n"
   ]
  },
  {
   "cell_type": "code",
   "execution_count": 27,
   "metadata": {},
   "outputs": [
    {
     "name": "stdout",
     "output_type": "stream",
     "text": [
      "Your favourite starter is spring rolls,  followed by pizza and finally a dessert of  gelato, all washed down with a glass of water\n"
     ]
    }
   ],
   "source": [
    "print(f\"Your favourite starter is {starter}, \\\n",
    " followed by {main} and finally a dessert of \\\n",
    " {dessert}, all washed down with a glass of {drink}\")"
   ]
  },
  {
   "cell_type": "markdown",
   "metadata": {},
   "source": [
    "<h3> Task 4 </h3>\n",
    "\n",
    "A motorbike costs £2000 and loses 10% of its value every year. Using a \n",
    "loop, print the value of the bike every following year until it falls below \n",
    "£1000.\n"
   ]
  },
  {
   "cell_type": "code",
   "execution_count": 37,
   "metadata": {},
   "outputs": [
    {
     "name": "stdout",
     "output_type": "stream",
     "text": [
      "The initial cost is £2000 in the year 2022\n",
      "The value in 2023 will be £1800.00\n",
      "The value in 2024 will be £1620.00\n",
      "The value in 2025 will be £1458.00\n",
      "The value in 2026 will be £1312.20\n",
      "The value in 2027 will be £1180.98\n",
      "The value in 2028 will be £1062.88\n",
      "In 2029 the value will have dropped below 1000 and it is £956.59\n"
     ]
    }
   ],
   "source": [
    "moto_value = 2000\n",
    "depreciation_factor = (1 - 0.1)         # this is how much the motorcycle depreciates in value per year\n",
    "year = 2022\n",
    "\n",
    "print(f\"The initial cost is £{moto_value} in the year {year}\")\n",
    "\n",
    "while moto_value > 1000:\n",
    "    moto_value *= 0.9\n",
    "    year += 1\n",
    "    if moto_value > 1000:\n",
    "        print(f\"The value in {year} will be £{moto_value:.2f}\")\n",
    "    else:\n",
    "        print(f\"In {year} the value will have dropped below 1000 and it is £{moto_value:.2f}\")\n",
    "    \n",
    "\n"
   ]
  },
  {
   "cell_type": "markdown",
   "metadata": {},
   "source": [
    "<h3> Task 4 </h3>\n",
    "Write a program which will ask for two numbers from a user. Then \n",
    "offer a menu to the user giving them a choice of operator:\n",
    "e.g. – Enter “a” if you want to add\n",
    " “b” if you want to subtract\n",
    "Include +, -, /, *, ** square (to the power of). Once the user has \n",
    "selected which operator they wish to use, perform the calculation."
   ]
  },
  {
   "cell_type": "code",
   "execution_count": 38,
   "metadata": {},
   "outputs": [],
   "source": [
    "first_num = int(input(\"Please enter a number that is positive or negative or zero\"))\n",
    "second_num = int(input\n",
    "(\"Please enter a number that is positive or negative, but CANNOT be zero\"))"
   ]
  },
  {
   "cell_type": "code",
   "execution_count": 39,
   "metadata": {},
   "outputs": [],
   "source": [
    "operation_to_do = input(\"Please enter a to ADD or s to SUBTRACT or d to DIVIDE or m to MULTIPLY or e to EXPONENTIATE, the numbers entered previously\")"
   ]
  },
  {
   "cell_type": "code",
   "execution_count": 41,
   "metadata": {},
   "outputs": [
    {
     "name": "stdout",
     "output_type": "stream",
     "text": [
      "1 + 2 = 3\n"
     ]
    }
   ],
   "source": [
    "if operation_to_do == \"a\" or operation_to_do == \"A\":\n",
    "    print(f\"{first_num} + {second_num} = {first_num + second_num}\")\n",
    "elif operation_to_do == \"d\" or operation_to_do == \"D\":\n",
    "    print(f\"{first_num} / {second_num} = {first_num / second_num}\")\n",
    "elif operation_to_do == \"e\" or operation_to_do == \"E\":\n",
    "    print(f\"{first_num} ** {second_num} = {first_num ** second_num}\")\n",
    "elif operation_to_do == \"m\" or operation_to_do == \"M\":\n",
    "    print(f\"{first_num} * {second_num} = {first_num * second_num}\")\n",
    "elif operation_to_do == \"s\" or operation_to_do == \"S\":\n",
    "    print(f\"{first_num} - {second_num} = {first_num - second_num}\")"
   ]
  },
  {
   "cell_type": "code",
   "execution_count": null,
   "metadata": {},
   "outputs": [],
   "source": []
  }
 ],
 "metadata": {
  "interpreter": {
   "hash": "51785c74230e6384e41df094c48c18fde00cf6ec68dc6e31ed41f8a90d6b45cf"
  },
  "kernelspec": {
   "display_name": "Python 3.8.10 64-bit (windows store)",
   "language": "python",
   "name": "python3"
  },
  "language_info": {
   "codemirror_mode": {
    "name": "ipython",
    "version": 3
   },
   "file_extension": ".py",
   "mimetype": "text/x-python",
   "name": "python",
   "nbconvert_exporter": "python",
   "pygments_lexer": "ipython3",
   "version": "3.8.10"
  },
  "orig_nbformat": 4
 },
 "nbformat": 4,
 "nbformat_minor": 2
}
