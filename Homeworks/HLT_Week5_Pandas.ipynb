{
 "cells": [
  {
   "cell_type": "markdown",
   "metadata": {},
   "source": [
    "##### Create a CSV file of 15 holiday destinations for a website in EXCEL\n",
    "\n",
    "1. Add in a column of destinations\n",
    "2. Add in a column that shows feedback score out of 10 for that \n",
    "destination\n",
    "3. Add in a column for average hotel star rating for those \n",
    "destinations \n",
    "4. Add in a column for number of all-inclusive hotels within each \n",
    "destination\n",
    "5. Add in the most visited city in each destination"
   ]
  },
  {
   "cell_type": "markdown",
   "metadata": {},
   "source": [
    "1. How many rows and columns are there in your file?\n",
    "2. Print row 3-8 ( using iloc/loc).\n",
    "3. Find the mean number of all-inclusive hotels across all destinations.\n",
    "4. Find the lowest scoring destination.\n",
    "5. Find the highest scoring destination.\n",
    "6. Find all the destinations where there are more than 9 all-inclusive hotels. \n",
    "7. Filter the data by score above 8. \n",
    "8. Filter the data score below 2 ( I need to know if these destinations should be removed or there is a problem) "
   ]
  },
  {
   "cell_type": "markdown",
   "metadata": {},
   "source": [
    "##### Extension \n",
    "1. Is there a correlation between number of all-inclusive hotels and score?\n",
    "2. Create a data visualisation diagram to show destination and highest scores?"
   ]
  },
  {
   "cell_type": "markdown",
   "metadata": {},
   "source": []
  }
 ],
 "metadata": {
  "interpreter": {
   "hash": "bbba869515c57faf23f25f232af608013d7bb4340e6019b7ef16dbefe3624b8e"
  },
  "kernelspec": {
   "display_name": "Python 3.10.2 64-bit",
   "language": "python",
   "name": "python3"
  },
  "language_info": {
   "name": "python",
   "version": "3.10.2"
  },
  "orig_nbformat": 4
 },
 "nbformat": 4,
 "nbformat_minor": 2
}
