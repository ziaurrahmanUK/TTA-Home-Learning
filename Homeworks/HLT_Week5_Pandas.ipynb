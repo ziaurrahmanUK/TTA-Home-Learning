{
 "cells": [
  {
   "cell_type": "markdown",
   "metadata": {},
   "source": [
    "##### Create a CSV file of 15 holiday destinations for a website in EXCEL\n",
    "\n",
    "1. Add in a column of destinations\n",
    "2. Add in a column that shows feedback score out of 10 for that \n",
    "destination\n",
    "3. Add in a column for average hotel star rating for those \n",
    "destinations \n",
    "4. Add in a column for number of all-inclusive hotels within each \n",
    "destination\n",
    "5. Add in the most visited city in each destination"
   ]
  },
  {
   "cell_type": "code",
   "execution_count": 93,
   "metadata": {},
   "outputs": [],
   "source": [
    "import pandas as pd\n",
    "import numpy as np\n",
    "import matplotlib.pyplot as plt\n",
    "%matplotlib inline  "
   ]
  },
  {
   "cell_type": "code",
   "execution_count": 94,
   "metadata": {},
   "outputs": [
    {
     "data": {
      "text/html": [
       "<div>\n",
       "<style scoped>\n",
       "    .dataframe tbody tr th:only-of-type {\n",
       "        vertical-align: middle;\n",
       "    }\n",
       "\n",
       "    .dataframe tbody tr th {\n",
       "        vertical-align: top;\n",
       "    }\n",
       "\n",
       "    .dataframe thead th {\n",
       "        text-align: right;\n",
       "    }\n",
       "</style>\n",
       "<table border=\"1\" class=\"dataframe\">\n",
       "  <thead>\n",
       "    <tr style=\"text-align: right;\">\n",
       "      <th></th>\n",
       "      <th>destinations</th>\n",
       "      <th>dest_feedback_out_of_10</th>\n",
       "      <th>average_hotel_star_rating</th>\n",
       "      <th>num_all_inclusive_hotels</th>\n",
       "      <th>most_visited_city</th>\n",
       "    </tr>\n",
       "    <tr>\n",
       "      <th>ID</th>\n",
       "      <th></th>\n",
       "      <th></th>\n",
       "      <th></th>\n",
       "      <th></th>\n",
       "      <th></th>\n",
       "    </tr>\n",
       "  </thead>\n",
       "  <tbody>\n",
       "    <tr>\n",
       "      <th>1</th>\n",
       "      <td>Brazil</td>\n",
       "      <td>10</td>\n",
       "      <td>4</td>\n",
       "      <td>67</td>\n",
       "      <td>Rio De Janeiro</td>\n",
       "    </tr>\n",
       "    <tr>\n",
       "      <th>2</th>\n",
       "      <td>Mexico</td>\n",
       "      <td>5</td>\n",
       "      <td>5</td>\n",
       "      <td>81</td>\n",
       "      <td>Cancun</td>\n",
       "    </tr>\n",
       "    <tr>\n",
       "      <th>3</th>\n",
       "      <td>Thailand</td>\n",
       "      <td>4</td>\n",
       "      <td>5</td>\n",
       "      <td>1</td>\n",
       "      <td>Phuket</td>\n",
       "    </tr>\n",
       "    <tr>\n",
       "      <th>4</th>\n",
       "      <td>Spain</td>\n",
       "      <td>3</td>\n",
       "      <td>2</td>\n",
       "      <td>97</td>\n",
       "      <td>Palma de Majorca</td>\n",
       "    </tr>\n",
       "    <tr>\n",
       "      <th>5</th>\n",
       "      <td>USA</td>\n",
       "      <td>8</td>\n",
       "      <td>1</td>\n",
       "      <td>56</td>\n",
       "      <td>New York</td>\n",
       "    </tr>\n",
       "    <tr>\n",
       "      <th>6</th>\n",
       "      <td>France</td>\n",
       "      <td>7</td>\n",
       "      <td>3</td>\n",
       "      <td>89</td>\n",
       "      <td>Paris</td>\n",
       "    </tr>\n",
       "    <tr>\n",
       "      <th>7</th>\n",
       "      <td>Italy</td>\n",
       "      <td>8</td>\n",
       "      <td>1</td>\n",
       "      <td>7</td>\n",
       "      <td>Rome</td>\n",
       "    </tr>\n",
       "    <tr>\n",
       "      <th>8</th>\n",
       "      <td>Greece</td>\n",
       "      <td>3</td>\n",
       "      <td>2</td>\n",
       "      <td>47</td>\n",
       "      <td>Athens</td>\n",
       "    </tr>\n",
       "    <tr>\n",
       "      <th>9</th>\n",
       "      <td>Portugal</td>\n",
       "      <td>1</td>\n",
       "      <td>1</td>\n",
       "      <td>88</td>\n",
       "      <td>Porto</td>\n",
       "    </tr>\n",
       "    <tr>\n",
       "      <th>10</th>\n",
       "      <td>Colombia</td>\n",
       "      <td>9</td>\n",
       "      <td>5</td>\n",
       "      <td>21</td>\n",
       "      <td>Cartagena</td>\n",
       "    </tr>\n",
       "    <tr>\n",
       "      <th>11</th>\n",
       "      <td>Cuba</td>\n",
       "      <td>1</td>\n",
       "      <td>2</td>\n",
       "      <td>76</td>\n",
       "      <td>Varadero</td>\n",
       "    </tr>\n",
       "    <tr>\n",
       "      <th>12</th>\n",
       "      <td>DominicanRepublic</td>\n",
       "      <td>2</td>\n",
       "      <td>2</td>\n",
       "      <td>24</td>\n",
       "      <td>Punta Cana</td>\n",
       "    </tr>\n",
       "    <tr>\n",
       "      <th>13</th>\n",
       "      <td>Egypt</td>\n",
       "      <td>4</td>\n",
       "      <td>5</td>\n",
       "      <td>92</td>\n",
       "      <td>Red Sea Resort</td>\n",
       "    </tr>\n",
       "    <tr>\n",
       "      <th>14</th>\n",
       "      <td>Tunisia</td>\n",
       "      <td>3</td>\n",
       "      <td>0</td>\n",
       "      <td>20</td>\n",
       "      <td>Sousse</td>\n",
       "    </tr>\n",
       "    <tr>\n",
       "      <th>15</th>\n",
       "      <td>Australia</td>\n",
       "      <td>8</td>\n",
       "      <td>2</td>\n",
       "      <td>3</td>\n",
       "      <td>Sydney</td>\n",
       "    </tr>\n",
       "  </tbody>\n",
       "</table>\n",
       "</div>"
      ],
      "text/plain": [
       "         destinations  dest_feedback_out_of_10  average_hotel_star_rating  \\\n",
       "ID                                                                          \n",
       "1              Brazil                       10                          4   \n",
       "2              Mexico                        5                          5   \n",
       "3            Thailand                        4                          5   \n",
       "4               Spain                        3                          2   \n",
       "5                 USA                        8                          1   \n",
       "6              France                        7                          3   \n",
       "7               Italy                        8                          1   \n",
       "8              Greece                        3                          2   \n",
       "9            Portugal                        1                          1   \n",
       "10           Colombia                        9                          5   \n",
       "11               Cuba                        1                          2   \n",
       "12  DominicanRepublic                        2                          2   \n",
       "13              Egypt                        4                          5   \n",
       "14            Tunisia                        3                          0   \n",
       "15          Australia                        8                          2   \n",
       "\n",
       "    num_all_inclusive_hotels most_visited_city  \n",
       "ID                                              \n",
       "1                         67    Rio De Janeiro  \n",
       "2                         81            Cancun  \n",
       "3                          1            Phuket  \n",
       "4                         97  Palma de Majorca  \n",
       "5                         56          New York  \n",
       "6                         89             Paris  \n",
       "7                          7              Rome  \n",
       "8                         47            Athens  \n",
       "9                         88             Porto  \n",
       "10                        21         Cartagena  \n",
       "11                        76          Varadero  \n",
       "12                        24        Punta Cana  \n",
       "13                        92    Red Sea Resort  \n",
       "14                        20            Sousse  \n",
       "15                         3            Sydney  "
      ]
     },
     "execution_count": 94,
     "metadata": {},
     "output_type": "execute_result"
    }
   ],
   "source": [
    "# df = pd.read_csv(\"G:\\My Drive\\TTA Work\\TTA-Home-Learning\\TTA-Home-Learning\\Homeworks\\HLT_Week5_Holiday_Destinations - Top_15.csv\", index_col='ID') # Windows\n",
    "df = pd.read_csv(\"/Users/ziaurrahman/Downloads/TTA-Home-Learning/Homeworks/HLT_Week5_Holiday_Destinations - Top_15.csv\", index_col='ID') # Mac\n",
    "df"
   ]
  },
  {
   "cell_type": "code",
   "execution_count": 95,
   "metadata": {},
   "outputs": [
    {
     "data": {
      "text/plain": [
       "destinations                 object\n",
       "dest_feedback_out_of_10       int64\n",
       "average_hotel_star_rating     int64\n",
       "num_all_inclusive_hotels      int64\n",
       "most_visited_city            object\n",
       "dtype: object"
      ]
     },
     "execution_count": 95,
     "metadata": {},
     "output_type": "execute_result"
    }
   ],
   "source": [
    "df.dtypes"
   ]
  },
  {
   "cell_type": "markdown",
   "metadata": {},
   "source": [
    "1. How many rows and columns are there in your file?\n",
    "2. Print row 3-8 ( using iloc/loc).\n",
    "3. Find the mean number of all-inclusive hotels across all destinations.\n",
    "4. Find the lowest scoring destination.\n",
    "5. Find the highest scoring destination.\n",
    "6. Find all the destinations where there are more than 9 all-inclusive hotels. \n",
    "7. Filter the data by score above 8. \n",
    "8. Filter the data score below 2 ( I need to know if these destinations should be removed or there is a problem) "
   ]
  },
  {
   "cell_type": "code",
   "execution_count": 96,
   "metadata": {},
   "outputs": [
    {
     "name": "stdout",
     "output_type": "stream",
     "text": [
      "There are 15 rows and 5 columns\n"
     ]
    }
   ],
   "source": [
    "# How many rows and columns are there in your file?\n",
    "print(f\"There are {df.shape[0]} rows and {df.shape[1]} columns\")"
   ]
  },
  {
   "cell_type": "code",
   "execution_count": 97,
   "metadata": {},
   "outputs": [
    {
     "data": {
      "text/html": [
       "<div>\n",
       "<style scoped>\n",
       "    .dataframe tbody tr th:only-of-type {\n",
       "        vertical-align: middle;\n",
       "    }\n",
       "\n",
       "    .dataframe tbody tr th {\n",
       "        vertical-align: top;\n",
       "    }\n",
       "\n",
       "    .dataframe thead th {\n",
       "        text-align: right;\n",
       "    }\n",
       "</style>\n",
       "<table border=\"1\" class=\"dataframe\">\n",
       "  <thead>\n",
       "    <tr style=\"text-align: right;\">\n",
       "      <th></th>\n",
       "      <th>destinations</th>\n",
       "      <th>dest_feedback_out_of_10</th>\n",
       "      <th>average_hotel_star_rating</th>\n",
       "      <th>num_all_inclusive_hotels</th>\n",
       "      <th>most_visited_city</th>\n",
       "    </tr>\n",
       "    <tr>\n",
       "      <th>ID</th>\n",
       "      <th></th>\n",
       "      <th></th>\n",
       "      <th></th>\n",
       "      <th></th>\n",
       "      <th></th>\n",
       "    </tr>\n",
       "  </thead>\n",
       "  <tbody>\n",
       "    <tr>\n",
       "      <th>3</th>\n",
       "      <td>Thailand</td>\n",
       "      <td>4</td>\n",
       "      <td>5</td>\n",
       "      <td>1</td>\n",
       "      <td>Phuket</td>\n",
       "    </tr>\n",
       "    <tr>\n",
       "      <th>4</th>\n",
       "      <td>Spain</td>\n",
       "      <td>3</td>\n",
       "      <td>2</td>\n",
       "      <td>97</td>\n",
       "      <td>Palma de Majorca</td>\n",
       "    </tr>\n",
       "    <tr>\n",
       "      <th>5</th>\n",
       "      <td>USA</td>\n",
       "      <td>8</td>\n",
       "      <td>1</td>\n",
       "      <td>56</td>\n",
       "      <td>New York</td>\n",
       "    </tr>\n",
       "    <tr>\n",
       "      <th>6</th>\n",
       "      <td>France</td>\n",
       "      <td>7</td>\n",
       "      <td>3</td>\n",
       "      <td>89</td>\n",
       "      <td>Paris</td>\n",
       "    </tr>\n",
       "    <tr>\n",
       "      <th>7</th>\n",
       "      <td>Italy</td>\n",
       "      <td>8</td>\n",
       "      <td>1</td>\n",
       "      <td>7</td>\n",
       "      <td>Rome</td>\n",
       "    </tr>\n",
       "    <tr>\n",
       "      <th>8</th>\n",
       "      <td>Greece</td>\n",
       "      <td>3</td>\n",
       "      <td>2</td>\n",
       "      <td>47</td>\n",
       "      <td>Athens</td>\n",
       "    </tr>\n",
       "  </tbody>\n",
       "</table>\n",
       "</div>"
      ],
      "text/plain": [
       "   destinations  dest_feedback_out_of_10  average_hotel_star_rating  \\\n",
       "ID                                                                    \n",
       "3      Thailand                        4                          5   \n",
       "4         Spain                        3                          2   \n",
       "5           USA                        8                          1   \n",
       "6        France                        7                          3   \n",
       "7         Italy                        8                          1   \n",
       "8        Greece                        3                          2   \n",
       "\n",
       "    num_all_inclusive_hotels most_visited_city  \n",
       "ID                                              \n",
       "3                          1            Phuket  \n",
       "4                         97  Palma de Majorca  \n",
       "5                         56          New York  \n",
       "6                         89             Paris  \n",
       "7                          7              Rome  \n",
       "8                         47            Athens  "
      ]
     },
     "execution_count": 97,
     "metadata": {},
     "output_type": "execute_result"
    }
   ],
   "source": [
    "# Print row 3-8 ( using iloc/loc).\n",
    "df.iloc[2:8]"
   ]
  },
  {
   "cell_type": "code",
   "execution_count": 98,
   "metadata": {},
   "outputs": [
    {
     "name": "stdout",
     "output_type": "stream",
     "text": [
      "The mean number of all-inclusive hotels in the datframe is 51.3\n"
     ]
    }
   ],
   "source": [
    "# Find the mean number of all-inclusive hotels across all destinations.\n",
    "mean_all_inc = df['num_all_inclusive_hotels'].mean()\n",
    "\n",
    "print(f'The mean number of all-inclusive hotels in the datframe is {mean_all_inc:.1f}')"
   ]
  },
  {
   "cell_type": "code",
   "execution_count": 99,
   "metadata": {},
   "outputs": [
    {
     "name": "stdout",
     "output_type": "stream",
     "text": [
      "The destination with the lowest score are: ID\n",
      "9     Portugal\n",
      "11        Cuba\n",
      "Name: destinations, dtype: object \n"
     ]
    }
   ],
   "source": [
    "# Find the lowest scoring destination.\n",
    "dests_lowest_score  = df[df['dest_feedback_out_of_10']== df.dest_feedback_out_of_10.min()]\n",
    "\n",
    "print(f\"The destination with the lowest score are: {dests_lowest_score.destinations} \")"
   ]
  },
  {
   "cell_type": "code",
   "execution_count": 100,
   "metadata": {},
   "outputs": [
    {
     "name": "stdout",
     "output_type": "stream",
     "text": [
      "The destination with the HIGHEST score are: ID\n",
      "1    Brazil\n",
      "Name: destinations, dtype: object \n"
     ]
    }
   ],
   "source": [
    "# Find the highest scoring destination.\n",
    "dests_highest_score  = df[df['dest_feedback_out_of_10']== df.dest_feedback_out_of_10.max()]\n",
    "print(f\"The destination with the HIGHEST score are: {dests_highest_score.destinations} \")"
   ]
  },
  {
   "cell_type": "code",
   "execution_count": 101,
   "metadata": {},
   "outputs": [
    {
     "name": "stdout",
     "output_type": "stream",
     "text": [
      "The destination with more than 9 all-inc hotels: ID\n",
      "1                Brazil\n",
      "2                Mexico\n",
      "4                 Spain\n",
      "5                   USA\n",
      "6                France\n",
      "8                Greece\n",
      "9              Portugal\n",
      "10             Colombia\n",
      "11                 Cuba\n",
      "12    DominicanRepublic\n",
      "13                Egypt\n",
      "14              Tunisia\n",
      "Name: destinations, dtype: object \n"
     ]
    }
   ],
   "source": [
    "# Find all the destinations where there are more than 9 all-inclusive hotels. \n",
    "dests_more_nine_hotels  = df[df['num_all_inclusive_hotels'] >= 9]\n",
    "print(f\"The destination with more than 9 all-inc hotels: {dests_more_nine_hotels.destinations} \")\n",
    "\n",
    "## please note: In my data ALL of my records have >9 all-inclusive hotels!!!"
   ]
  },
  {
   "cell_type": "code",
   "execution_count": 102,
   "metadata": {},
   "outputs": [
    {
     "name": "stdout",
     "output_type": "stream",
     "text": [
      "The destination with scores above 8: ID\n",
      "1       Brazil\n",
      "10    Colombia\n",
      "Name: destinations, dtype: object \n"
     ]
    }
   ],
   "source": [
    "# Filter the data by score above 8.\n",
    "dests_feedback_above_8  = df[df['dest_feedback_out_of_10'] > 8]\n",
    "print(f\"The destination with scores above 8: {dests_feedback_above_8.destinations} \")\n"
   ]
  },
  {
   "cell_type": "code",
   "execution_count": 103,
   "metadata": {},
   "outputs": [
    {
     "name": "stdout",
     "output_type": "stream",
     "text": [
      "The destination with scores below 2: ID\n",
      "9     Portugal\n",
      "11        Cuba\n",
      "Name: destinations, dtype: object \n"
     ]
    }
   ],
   "source": [
    "# Filter the data score below 2 ( I need to know if these destinations should be removed or there is a problem) \n",
    "dests_feedback_below_2  = df[df['dest_feedback_out_of_10'] < 2]\n",
    "print(f\"The destination with scores below 2: {dests_feedback_below_2.destinations} \")"
   ]
  },
  {
   "cell_type": "markdown",
   "metadata": {},
   "source": [
    "##### Extension \n",
    "1. Is there a correlation between number of all-inclusive hotels and score?\n",
    "2. Create a data visualisation diagram to show destination and highest scores?"
   ]
  },
  {
   "cell_type": "code",
   "execution_count": 104,
   "metadata": {},
   "outputs": [
    {
     "name": "stdout",
     "output_type": "stream",
     "text": [
      "There is an insignificant negative correlation between score and number of all-inclusive hotels of -0.27\n"
     ]
    }
   ],
   "source": [
    "# Is there a correlation between number of all-inclusive hotels and score?\n",
    "\n",
    "corr_score_and_hotels = df['dest_feedback_out_of_10'].corr(df['num_all_inclusive_hotels'], method='pearson')\n",
    "\n",
    "print(f'There is an insignificant negative correlation between score and number of all-inclusive hotels of {corr_score_and_hotels:.2f}')   # Because my data was randomly generated and fake data!!!\n"
   ]
  },
  {
   "cell_type": "code",
   "execution_count": 105,
   "metadata": {},
   "outputs": [
    {
     "data": {
      "text/plain": [
       "<AxesSubplot:ylabel='destinations'>"
      ]
     },
     "execution_count": 105,
     "metadata": {},
     "output_type": "execute_result"
    },
    {
     "data": {
      "image/png": "[encoded data removed]",
      "text/plain": [
       "<Figure size 432x288 with 1 Axes>"
      ]
     },
     "metadata": {
      "needs_background": "light"
     },
     "output_type": "display_data"
    }
   ],
   "source": [
    "# Create a data visualisation diagram to show destination and highest scores?\n",
    "df.plot.barh(x='destinations', y='dest_feedback_out_of_10')\n",
    "# plt.bar(x='destinations', height=5, data=df['dest_feedback_out_of_10'])\n"
   ]
  },
  {
   "cell_type": "markdown",
   "metadata": {},
   "source": []
  }
 ],
 "metadata": {
  "interpreter": {
   "hash": "bbba869515c57faf23f25f232af608013d7bb4340e6019b7ef16dbefe3624b8e"
  },
  "kernelspec": {
   "display_name": "Python 3.10.2 64-bit",
   "language": "python",
   "name": "python3"
  },
  "language_info": {
   "codemirror_mode": {
    "name": "ipython",
    "version": 3
   },
   "file_extension": ".py",
   "mimetype": "text/x-python",
   "name": "python",
   "nbconvert_exporter": "python",
   "pygments_lexer": "ipython3",
   "version": "3.8.8"
  },
  "orig_nbformat": 4
 },
 "nbformat": 4,
 "nbformat_minor": 2
}
