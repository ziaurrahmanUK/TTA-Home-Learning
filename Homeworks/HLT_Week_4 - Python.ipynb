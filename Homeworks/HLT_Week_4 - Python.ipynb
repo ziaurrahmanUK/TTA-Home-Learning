{
 "cells": [
  {
   "cell_type": "markdown",
   "metadata": {},
   "source": [
    "### Task 1 \n",
    "Write a program that allows you to enter 4 numbers and stores them in a file called “Numbers”\n",
    "3\n",
    "45\n",
    "83\n",
    "21\n",
    "Have a go at ‘w’ ‘r’  ‘a’\n"
   ]
  },
  {
   "cell_type": "code",
   "execution_count": 68,
   "metadata": {},
   "outputs": [],
   "source": [
    "num1 = input(\"Please enter first number: \") # get inpuit for 1st to 4th number\n",
    "num2 = input(\"Please enter second number: \")\n",
    "num3 = input(\"Please enter third number: \")\n",
    "num4 = input(\"Please enter fourth number: \")\n",
    "\n",
    "\n",
    "with open(\"numbers.txt\", \"w\") as f:  # create file in write-mode and write the 4 lines\n",
    "    f.write(num1 + \",\")\n",
    "    f.write(num2 + \",\")\n",
    "    f.write(num3 + \",\")\n",
    "    f.write(num4 + \",\")"
   ]
  },
  {
   "cell_type": "code",
   "execution_count": 69,
   "metadata": {},
   "outputs": [
    {
     "name": "stdout",
     "output_type": "stream",
     "text": [
      "['3,45,83,21,']\n"
     ]
    }
   ],
   "source": [
    "with open(\"Numbers.txt\", \"r\") as f: # open in read-mode the file and print the lines\n",
    "    lines = f.readlines()\n",
    "    print(lines)"
   ]
  },
  {
   "cell_type": "code",
   "execution_count": 70,
   "metadata": {},
   "outputs": [],
   "source": [
    "num5 = \"63\"  # will be appending this value to the file\n",
    "\n",
    "with open(\"Numbers.txt\", \"a\") as f:  # file opened in append mode for writing num5\n",
    "    lines = f.write(num5)"
   ]
  },
  {
   "cell_type": "code",
   "execution_count": 71,
   "metadata": {},
   "outputs": [
    {
     "name": "stdout",
     "output_type": "stream",
     "text": [
      "['3,45,83,21,63']\n"
     ]
    }
   ],
   "source": [
    "with open(\"Numbers.txt\", \"r\") as f:  # file opened in read-mode to prin the file\n",
    "    lines = f.readlines()\n",
    "    print(lines)"
   ]
  },
  {
   "cell_type": "markdown",
   "metadata": {},
   "source": [
    "### Task 2\n",
    "Write a program to ask a student for their percentage mark and convert this to a grade, call it mark_grade()"
   ]
  },
  {
   "cell_type": "code",
   "execution_count": 72,
   "metadata": {},
   "outputs": [],
   "source": [
    "def mark_grade():\n",
    "    percentage_mark = float(input(\"Please enter your mark: \"))\n",
    "\n",
    "    if percentage_mark >=70:\n",
    "        print(f\"You have a first. Congratulations!\")\n",
    "    elif percentage_mark >=60 and percentage_mark < 70:\n",
    "        print(f\"You have received a 2-1\")\n",
    "    elif percentage_mark >=50 and percentage_mark < 60:\n",
    "        print(f\"You have received a 2-2\")\n",
    "    elif percentage_mark >=40 and percentage_mark < 50:\n",
    "        print(f\"You have received a 3rd\")\n",
    "    elif percentage_mark >=0 and percentage_mark < 40:\n",
    "        print(f\"You have received a Pass\")\n",
    "    else:\n",
    "        print(f\"Please enter a valid percentage score as you entered {percentage_mark}\")       "
   ]
  },
  {
   "cell_type": "code",
   "execution_count": 74,
   "metadata": {},
   "outputs": [
    {
     "name": "stdout",
     "output_type": "stream",
     "text": [
      "You have a first. Congratulations!\n",
      "You have received a 2-1\n",
      "You have received a 2-2\n",
      "You have received a 3rd\n",
      "You have received a Pass\n",
      "Please enter a valid percentage score as you entered -1.0\n"
     ]
    }
   ],
   "source": [
    "# grades = [72, 66, 52, 41, 10, -1]\n",
    "\n",
    "for i in range(6):\n",
    "    mark_grade()"
   ]
  },
  {
   "cell_type": "markdown",
   "metadata": {},
   "source": [
    "### Task 3\n",
    "Ask the user for their target grade and print this with their mark\n",
    "1. If their target grade > exam grade display a suitable message\n",
    "2. If their target grade = exam grade display a suitable message\n",
    "3. If their target grade < exam grade display a suitable message\n"
   ]
  },
  {
   "cell_type": "code",
   "execution_count": 75,
   "metadata": {},
   "outputs": [],
   "source": [
    "def mark_grade_v2():\n",
    "    percentage_mark = float(input(\"Please enter your mark: \"))\n",
    "    predicted_grade = input(\"Please enter your predicted grade i.e. 1, 2-1, 2-2, 3, pass: \")\n",
    "\n",
    "    if percentage_mark >=70:\n",
    "        value =  \"1\"\n",
    "        print(f\"You have a first. Congratulations!\")\n",
    "        \n",
    "    elif percentage_mark >=60 and percentage_mark < 70:\n",
    "        value =  \"2-1\"\n",
    "        print(f\"You have received a 2-1\")\n",
    "    elif percentage_mark >=50 and percentage_mark < 60:\n",
    "        value = \"2-2\"\n",
    "        print(f\"You have received a 2-2\")\n",
    "    elif percentage_mark >=40 and percentage_mark < 50:\n",
    "        value  = \"3\"\n",
    "        print(f\"You have received a 3rd\")\n",
    "    elif percentage_mark >=0 and percentage_mark < 40:\n",
    "        value  = \"pass\"\n",
    "        print(f\"You have received a Pass\")\n",
    "    else:\n",
    "        print(f\"Please enter a valid percentage score as you entered {percentage_mark}\")\n",
    "    \n",
    "    message(predicted_grade, value)\n",
    "    \n",
    "\n",
    "def message(predicted_grade, value):\n",
    "    if predicted_grade == value:\n",
    "        print(\"Congratulations! You received what you had predicted\")\n",
    "    elif predicted_grade >= value:\n",
    "        print(\"Congratulations! You did better than predicted!\")\n",
    "    else:\n",
    "        print(\"Unfortunately you did worse than predicted\")\n"
   ]
  },
  {
   "cell_type": "code",
   "execution_count": 79,
   "metadata": {},
   "outputs": [
    {
     "name": "stdout",
     "output_type": "stream",
     "text": [
      "You have a first. Congratulations!\n",
      "Congratulations! You received what you had predicted\n",
      "You have received a 2-1\n",
      "Unfortunately you did worse than predicted\n",
      "You have received a 3rd\n",
      "Unfortunately you did worse than predicted\n"
     ]
    }
   ],
   "source": [
    "for i in range(3):  ## testing with ==, >= and <= predicted grades (72, 1), (65, 1), (43, 2-1)\n",
    "    mark_grade_v2()"
   ]
  },
  {
   "cell_type": "code",
   "execution_count": null,
   "metadata": {},
   "outputs": [],
   "source": []
  }
 ],
 "metadata": {
  "interpreter": {
   "hash": "bbd44b1c2c3135a4f1eee1af39abdc9637d97b18f8e070f0b414e53e003f559b"
  },
  "kernelspec": {
   "display_name": "Python 3.9.7 ('base')",
   "language": "python",
   "name": "python3"
  },
  "language_info": {
   "codemirror_mode": {
    "name": "ipython",
    "version": 3
   },
   "file_extension": ".py",
   "mimetype": "text/x-python",
   "name": "python",
   "nbconvert_exporter": "python",
   "pygments_lexer": "ipython3",
   "version": "3.9.7"
  },
  "orig_nbformat": 4
 },
 "nbformat": 4,
 "nbformat_minor": 2
}
