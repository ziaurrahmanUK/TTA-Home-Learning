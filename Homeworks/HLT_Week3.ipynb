{
 "cells": [
  {
   "cell_type": "markdown",
   "metadata": {},
   "source": [
    "### Task 1\n",
    "Create your own Flow Diagram, a subject of your \n",
    "own choice, Example: Fast food order and convert it \n",
    "into code. see 'HLT_Week3_Flow_Diagram.pdf'"
   ]
  },
  {
   "cell_type": "code",
   "execution_count": 1,
   "metadata": {},
   "outputs": [
    {
     "data": {
      "text/html": [
       "<img src=\"ATM - Flowchart.jpeg\" width=\"600\" height=\"600\"/>"
      ],
      "text/plain": [
       "<IPython.core.display.Image object>"
      ]
     },
     "execution_count": 1,
     "metadata": {},
     "output_type": "execute_result"
    }
   ],
   "source": [
    "from IPython.display import Image\n",
    "Image(url=\"ATM - Flowchart.jpeg\", width=600, height=600,)"
   ]
  },
  {
   "cell_type": "markdown",
   "metadata": {},
   "source": [
    "The above flowchart is for a basic ATM. You can withdraw, deposit or print a receipt of your balance, (once the PIN has been authenicated and read)"
   ]
  },
  {
   "cell_type": "code",
   "execution_count": 15,
   "metadata": {},
   "outputs": [
    {
     "name": "stdout",
     "output_type": "stream",
     "text": [
      "Pin read and accepted\n",
      "You currently have £100\n",
      "You selected £200.0 which is larger than your balance of £100\n",
      "Please select a value lower than £100\n",
      "You withdrew £100.00\n",
      "Your new balance is £0.00\n",
      "Deposits: \n",
      "Counting notes....\n",
      "You deposited £300.00\n",
      "Your new balance is £300.00\n",
      "Please take your receipt \n",
      "Thank you for using Zed Bank, please take your card and any receipts with you\n"
     ]
    }
   ],
   "source": [
    "def atm( balance ):\n",
    "    print(f\"Pin read and accepted\")\n",
    "    \n",
    "    decision_withdraw = input((f\"Would you like to withdraw Cash?, Y / N \"))\n",
    "    \n",
    "    if decision_withdraw == \"Y\":\n",
    "        withdraw_cash(balance)\n",
    "    else:\n",
    "        deposit_cash(balance)\n",
    "    \n",
    "def withdraw_cash(balance):\n",
    "    \n",
    "    print(f\"You currently have £{balance}\")\n",
    "    amount = float(input(f\"How much do you wish to withdraw up to a maximum of {balance}? \"))\n",
    "    \n",
    "    while amount > balance:\n",
    "        print(f\"You selected £{amount} which is larger than your balance of £{balance}\")\n",
    "        print(f\"Please select a value lower than £{balance}\")\n",
    "        amount = float(input(f\"Please select an amount lower than £{balance}? \"))\n",
    "    \n",
    "    balance -= amount\n",
    "    print(f\"You withdrew £{amount:.2f}\")\n",
    "    print(f\"Your new balance is £{balance:.2f}\")\n",
    "    deposit_cash(balance)\n",
    "    \n",
    "    \n",
    "    \n",
    "    \n",
    "def deposit_cash(bal):\n",
    "    print(f\"Deposits: \")\n",
    "\n",
    "    decision_deposit = input((f\"Would you like to make a deposit? Y or N ?\"))\n",
    "    \n",
    "    if decision_deposit == \"Y\":\n",
    "        deposit = float(input((f\"How much do you wish to deposit?\")))\n",
    "        print(f\"Counting notes....\")\n",
    "        bal += deposit\n",
    "        print(f\"You deposited £{deposit:.2f}\")\n",
    "        print(f\"Your new balance is £{bal:.2f}\")\n",
    "        print_balance(bal)\n",
    "        \n",
    "    else:\n",
    "        print_balance(bal)\n",
    "        \n",
    "\n",
    "\n",
    "def print_balance(bal):\n",
    "    \n",
    "    \n",
    "    print_decision = input(f\"Would you like a printed receipt? Y or N? \")\n",
    "    \n",
    "    if print_decision == \"Y\":\n",
    "        \n",
    "        print(f\"Please take your receipt \")\n",
    "        goodbye()\n",
    "    else:\n",
    "        goodbye()\n",
    "    \n",
    "def goodbye():\n",
    "    print(f\"Thank you for using Zed Bank, please take your card and any receipts with you\") \n",
    "    \n",
    "atm(100)\n",
    "\n"
   ]
  },
  {
   "cell_type": "markdown",
   "metadata": {},
   "source": [
    "### Task 2\n",
    "\n",
    "As an extension to the motorbike task that costs \n",
    "£2000 and loses 10% of its value every year. Set up \n",
    "a function that performs the calculation by passing \n",
    "in parameters. Then using a loop, print the value of \n",
    "the bike every following year until it falls below \n",
    "£1000"
   ]
  },
  {
   "cell_type": "code",
   "execution_count": 16,
   "metadata": {},
   "outputs": [],
   "source": [
    "# This function will depreciate value of an object by the depreciationPercent\n",
    "def depreciation_function( moto_value, depreciationPercent):\n",
    "    \n",
    "    while moto_value > 1000:\n",
    "        print(f\"The moto costs £{moto_value:.2f}\")\n",
    "        moto_value *= ((100 - depreciationPercent) / 100)\n",
    "    "
   ]
  },
  {
   "cell_type": "code",
   "execution_count": 17,
   "metadata": {},
   "outputs": [
    {
     "name": "stdout",
     "output_type": "stream",
     "text": [
      "The moto costs £2000.00\n",
      "The moto costs £1800.00\n",
      "The moto costs £1620.00\n",
      "The moto costs £1458.00\n",
      "The moto costs £1312.20\n",
      "The moto costs £1180.98\n",
      "The moto costs £1062.88\n"
     ]
    }
   ],
   "source": [
    "moto_value ,  depreciationPercent = 2000, 10\n",
    "\n",
    "depreciation_function( moto_value, depreciationPercent )\n"
   ]
  },
  {
   "cell_type": "markdown",
   "metadata": {},
   "source": [
    "### Task 3\n",
    "Write a program which will ask for two numbers \n",
    "from a user. Then offer an option menu to the user \n",
    "giving them a choice of maths operators. Once the \n",
    "user has selected which operator they wish to use, \n",
    "perform the calculation by using a procedure and \n",
    "passing parameters."
   ]
  },
  {
   "cell_type": "code",
   "execution_count": 22,
   "metadata": {},
   "outputs": [],
   "source": [
    "def calculator_function():\n",
    "    first_num = int(input(\"Please enter a number that is positive or negative or zero\"))\n",
    "    second_num = int(input(\"Please enter a number that is positive or negative, but CANNOT be zero\"))\n",
    "    operation_to_do = input(\"Please enter + to ADD or s to - or / to DIVIDE or * to MULTIPLY or ** to EXPONENTIATE, or q to Quit\")\n",
    "    calculate(first_num, second_num, operation_to_do)\n",
    "\n",
    "def calculate(num1, num2, operation):\n",
    "    if operation == \"+\":\n",
    "        print(f\"{num1} + {num2} = {num1 + num2}\")\n",
    "    elif operation == \"-\" :\n",
    "        print(f\"{num1} - {num2} = {num1 - num2}\")\n",
    "    elif operation == \"**\":\n",
    "        print(f\"{num1} ^ {num2} = {num1 ** num2}\")\n",
    "    elif operation == \"*\":\n",
    "        print(f\"{num1} * {num2} = {num1 * num2}\")\n",
    "    elif operation == \"/\":\n",
    "        print(f\"{num1} / {num2} = {num1 - num2}\")\n",
    "    "
   ]
  },
  {
   "cell_type": "code",
   "execution_count": 19,
   "metadata": {},
   "outputs": [
    {
     "name": "stdout",
     "output_type": "stream",
     "text": [
      "23 + 222 = 245\n"
     ]
    }
   ],
   "source": [
    "calculator_function()\n",
    "\n"
   ]
  },
  {
   "cell_type": "code",
   "execution_count": 20,
   "metadata": {},
   "outputs": [
    {
     "name": "stdout",
     "output_type": "stream",
     "text": [
      "22 - 333 = -311\n"
     ]
    }
   ],
   "source": [
    "calculator_function()"
   ]
  },
  {
   "cell_type": "code",
   "execution_count": 23,
   "metadata": {},
   "outputs": [
    {
     "name": "stdout",
     "output_type": "stream",
     "text": [
      "222 / 3333 = -3111\n"
     ]
    }
   ],
   "source": [
    "calculator_function()"
   ]
  },
  {
   "cell_type": "code",
   "execution_count": 24,
   "metadata": {},
   "outputs": [
    {
     "name": "stdout",
     "output_type": "stream",
     "text": [
      "224 * 22434 = 5025216\n"
     ]
    }
   ],
   "source": [
    "calculator_function()\n"
   ]
  },
  {
   "cell_type": "code",
   "execution_count": 25,
   "metadata": {},
   "outputs": [
    {
     "name": "stdout",
     "output_type": "stream",
     "text": [
      "2323 ^ 666 = 6148564410829003846259449120385676398895505435356675321598256113192927207851676857740498263034877906078851685241517200894265973611461460076591035721137818669121699730113551716005165276619725037868403189533764927267814869066788247339540502565053352834549323673819042963108022164507707273955253823097844278340353927055594331473589322259401440040731811623562778121149944199713926503663230884361807668591859491982613152088712991137869927023688766451072015874007116749997941094747689122897824173842750120464808972762565072803528308066387666602951175047940052270372773508648501416892813086137417367333313039324932200104929336236196982262952245152324638377795117537426711332441582744971734801825277633002470809333548718549760355802772083371642896848326254237894072620892268011034040333898239900363827111610526723269475208215552057073723789807664226766460278369593088740665864746379073404515291830780704234881806340949773397509797534909161429238042704246021472297895709161349555514992381772807778988761421119497503439047424719842058399290672237254977783744556703456263031265627054736986918809460410628461699604596794258612865285700828501349442972042914225765072208049006122718904033021467315098201354352437386410869160193285912701332599182756788580030564480354145091004378781096522488737284016346245643665289808161948924178702919802961765935744129457170920386452564737358841294417567909831595219124045240699866037333754572870801806618844204215285870247689976921764844929372431203421728276669402902952374917320177419408922261557288687231551403485746063707669747377759805050337468880305815119607520975703750227648619554399356355744118181064776710774373819803470432272087098943834484027630925822229461901025084680095480067765923043316631827238494924911241621370271223591278746496620373719269492894526243107253117392634194040220085666228090021753992439673293115711934441226600656645061772912963747535946547180248068353079855249238405322750705990485282665564547500331259621957929197166955098946190825859554631845781443594164450609117475621523017685040050269139437290868412900876763543684770857737773211045631163822922652736711244065004108256469143512532638895870379775467418441210837537301391492073358972258473538953980522400422158854946411459497523295689\n"
     ]
    }
   ],
   "source": [
    "calculator_function()"
   ]
  },
  {
   "cell_type": "code",
   "execution_count": null,
   "metadata": {},
   "outputs": [],
   "source": []
  }
 ],
 "metadata": {
  "interpreter": {
   "hash": "bbd44b1c2c3135a4f1eee1af39abdc9637d97b18f8e070f0b414e53e003f559b"
  },
  "kernelspec": {
   "display_name": "Python 3.9.7 ('base')",
   "language": "python",
   "name": "python3"
  },
  "language_info": {
   "codemirror_mode": {
    "name": "ipython",
    "version": 3
   },
   "file_extension": ".py",
   "mimetype": "text/x-python",
   "name": "python",
   "nbconvert_exporter": "python",
   "pygments_lexer": "ipython3",
   "version": "3.10.2"
  },
  "orig_nbformat": 4
 },
 "nbformat": 4,
 "nbformat_minor": 2
}
