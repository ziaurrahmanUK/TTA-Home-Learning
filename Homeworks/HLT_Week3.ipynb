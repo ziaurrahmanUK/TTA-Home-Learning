{
 "cells": [
  {
   "cell_type": "markdown",
   "metadata": {},
   "source": [
    "### Task 1\n",
    "Create your own Flow Diagram, a subject of your \n",
    "own choice, Example: Fast food order and convert it \n",
    "into code. see 'HLT_Week3_Flow_Diagram.pdf'"
   ]
  },
  {
   "cell_type": "code",
   "execution_count": 2,
   "metadata": {},
   "outputs": [
    {
     "data": {
      "text/html": [
       "<img src=\"ATM - Flowchart.jpeg\" width=\"600\" height=\"600\"/>"
      ],
      "text/plain": [
       "<IPython.core.display.Image object>"
      ]
     },
     "execution_count": 2,
     "metadata": {},
     "output_type": "execute_result"
    }
   ],
   "source": [
    "from IPython.display import Image\n",
    "Image(url=\"ATM - Flowchart.jpeg\", width=600, height=600,)"
   ]
  },
  {
   "cell_type": "markdown",
   "metadata": {},
   "source": [
    "The above flowchart is for a basic AYM in which we can withdraw, deposit or view a balance once the PIN has been authenicated and read"
   ]
  },
  {
   "cell_type": "code",
   "execution_count": 11,
   "metadata": {},
   "outputs": [
    {
     "name": "stdout",
     "output_type": "stream",
     "text": [
      "Pin read and accepted\n"
     ]
    },
    {
     "ename": "UnboundLocalError",
     "evalue": "local variable 'curr_bal' referenced before assignment",
     "output_type": "error",
     "traceback": [
      "\u001b[0;31m---------------------------------------------------------------------------\u001b[0m",
      "\u001b[0;31mUnboundLocalError\u001b[0m                         Traceback (most recent call last)",
      "\u001b[1;32m/Users/ziaurrahman/Documents/TTA-Home-Learning/TTA-Home-Learning/Homeworks/HLT_Week3.ipynb Cell 4'\u001b[0m in \u001b[0;36m<module>\u001b[0;34m\u001b[0m\n\u001b[1;32m     <a href='vscode-notebook-cell:/Users/ziaurrahman/Documents/TTA-Home-Learning/TTA-Home-Learning/Homeworks/HLT_Week3.ipynb#ch0000012?line=17'>18</a>\u001b[0m \u001b[39mdef\u001b[39;00m \u001b[39mview_balance\u001b[39m():\n\u001b[1;32m     <a href='vscode-notebook-cell:/Users/ziaurrahman/Documents/TTA-Home-Learning/TTA-Home-Learning/Homeworks/HLT_Week3.ipynb#ch0000012?line=18'>19</a>\u001b[0m     \u001b[39mprint\u001b[39m(\u001b[39mf\u001b[39m\u001b[39m\"\u001b[39m\u001b[39mYour balance is \u001b[39m\u001b[39m{\u001b[39;00mcurr_bal\u001b[39m}\u001b[39;00m\u001b[39m\"\u001b[39m)\n\u001b[0;32m---> <a href='vscode-notebook-cell:/Users/ziaurrahman/Documents/TTA-Home-Learning/TTA-Home-Learning/Homeworks/HLT_Week3.ipynb#ch0000012?line=23'>24</a>\u001b[0m start(\u001b[39m100\u001b[39;49m, )\n",
      "\u001b[1;32m/Users/ziaurrahman/Documents/TTA-Home-Learning/TTA-Home-Learning/Homeworks/HLT_Week3.ipynb Cell 4'\u001b[0m in \u001b[0;36mstart\u001b[0;34m(curr_bal, pinread, pinauth)\u001b[0m\n\u001b[1;32m      <a href='vscode-notebook-cell:/Users/ziaurrahman/Documents/TTA-Home-Learning/TTA-Home-Learning/Homeworks/HLT_Week3.ipynb#ch0000012?line=4'>5</a>\u001b[0m withdraw \u001b[39m=\u001b[39m \u001b[39minput\u001b[39m((\u001b[39mf\u001b[39m\u001b[39m\"\u001b[39m\u001b[39mWould you like to withdraw Cash?, Y / N\u001b[39m\u001b[39m\"\u001b[39m))\n\u001b[1;32m      <a href='vscode-notebook-cell:/Users/ziaurrahman/Documents/TTA-Home-Learning/TTA-Home-Learning/Homeworks/HLT_Week3.ipynb#ch0000012?line=6'>7</a>\u001b[0m \u001b[39mif\u001b[39;00m withdraw \u001b[39m==\u001b[39m \u001b[39m\"\u001b[39m\u001b[39mY\u001b[39m\u001b[39m\"\u001b[39m:\n\u001b[0;32m----> <a href='vscode-notebook-cell:/Users/ziaurrahman/Documents/TTA-Home-Learning/TTA-Home-Learning/Homeworks/HLT_Week3.ipynb#ch0000012?line=7'>8</a>\u001b[0m     withdraw_cash()\n",
      "\u001b[1;32m/Users/ziaurrahman/Documents/TTA-Home-Learning/TTA-Home-Learning/Homeworks/HLT_Week3.ipynb Cell 4'\u001b[0m in \u001b[0;36mwithdraw_cash\u001b[0;34m()\u001b[0m\n\u001b[1;32m     <a href='vscode-notebook-cell:/Users/ziaurrahman/Documents/TTA-Home-Learning/TTA-Home-Learning/Homeworks/HLT_Week3.ipynb#ch0000012?line=10'>11</a>\u001b[0m \u001b[39mdef\u001b[39;00m \u001b[39mwithdraw_cash\u001b[39m():\n\u001b[1;32m     <a href='vscode-notebook-cell:/Users/ziaurrahman/Documents/TTA-Home-Learning/TTA-Home-Learning/Homeworks/HLT_Week3.ipynb#ch0000012?line=11'>12</a>\u001b[0m     amount \u001b[39m=\u001b[39m \u001b[39mfloat\u001b[39m(\u001b[39minput\u001b[39m(\u001b[39mf\u001b[39m\u001b[39m\"\u001b[39m\u001b[39mHow much you wish to withdraw?\u001b[39m\u001b[39m\"\u001b[39m))\n\u001b[0;32m---> <a href='vscode-notebook-cell:/Users/ziaurrahman/Documents/TTA-Home-Learning/TTA-Home-Learning/Homeworks/HLT_Week3.ipynb#ch0000012?line=13'>14</a>\u001b[0m     curr_bal \u001b[39m-\u001b[39m\u001b[39m=\u001b[39m amount\n\u001b[1;32m     <a href='vscode-notebook-cell:/Users/ziaurrahman/Documents/TTA-Home-Learning/TTA-Home-Learning/Homeworks/HLT_Week3.ipynb#ch0000012?line=14'>15</a>\u001b[0m     \u001b[39mprint\u001b[39m(\u001b[39mf\u001b[39m\u001b[39m\"\u001b[39m\u001b[39mYou withdrew \u001b[39m\u001b[39m{\u001b[39;00mamount\u001b[39m}\u001b[39;00m\u001b[39m\"\u001b[39m)\n",
      "\u001b[0;31mUnboundLocalError\u001b[0m: local variable 'curr_bal' referenced before assignment"
     ]
    }
   ],
   "source": [
    "def start( curr_bal, pinread = True, pinauth = True ):\n",
    "    balance = curr_bal\n",
    "    \n",
    "    print(f\"Pin read and accepted\")\n",
    "    withdraw = input((f\"Would you like to withdraw Cash?, Y / N\"))\n",
    "    \n",
    "    if withdraw == \"Y\":\n",
    "        withdraw_cash()\n",
    "    \n",
    "\n",
    "def withdraw_cash():\n",
    "    amount = float(input(f\"How much you wish to withdraw?\"))\n",
    "    \n",
    "    curr_bal -= amount\n",
    "    print(f\"You withdrew {amount}\")\n",
    "\n",
    "\n",
    "def view_balance():\n",
    "    print(f\"Your balance is {curr_bal}\")\n",
    "    \n",
    "    \n",
    "    \n",
    "    \n",
    "start(100, )\n",
    "\n"
   ]
  },
  {
   "cell_type": "markdown",
   "metadata": {},
   "source": [
    "### Task 2\n",
    "\n",
    "As an extension to the motorbike task that costs \n",
    "£2000 and loses 10% of its value every year. Set up \n",
    "a function that performs the calculation by passing \n",
    "in parameters. Then using a loop, print the value of \n",
    "the bike every following year until it falls below \n",
    "£1000"
   ]
  },
  {
   "cell_type": "code",
   "execution_count": 138,
   "metadata": {},
   "outputs": [],
   "source": [
    "# This function will depreciate value of an object by the depreciationPercent\n",
    "def depreciation_function( moto_value, depreciationPercent):\n",
    "    \n",
    "    while moto_value > 1000:\n",
    "        print(f\"The moto costs £{moto_value:.2f}\")\n",
    "        moto_value *= ((100 - depreciationPercent) / 100)\n",
    "    "
   ]
  },
  {
   "cell_type": "code",
   "execution_count": 139,
   "metadata": {},
   "outputs": [
    {
     "name": "stdout",
     "output_type": "stream",
     "text": [
      "The moto costs £2000.00\n",
      "The moto costs £1800.00\n",
      "The moto costs £1620.00\n",
      "The moto costs £1458.00\n",
      "The moto costs £1312.20\n",
      "The moto costs £1180.98\n",
      "The moto costs £1062.88\n"
     ]
    }
   ],
   "source": [
    "moto_value ,  depreciationPercent = 2000, 10\n",
    "\n",
    "depreciation_function( moto_value, depreciationPercent )\n"
   ]
  },
  {
   "cell_type": "markdown",
   "metadata": {},
   "source": [
    "### Task 3\n",
    "Write a program which will ask for two numbers \n",
    "from a user. Then offer an option menu to the user \n",
    "giving them a choice of maths operators. Once the \n",
    "user has selected which operator they wish to use, \n",
    "perform the calculation by using a procedure and \n",
    "passing parameters."
   ]
  },
  {
   "cell_type": "code",
   "execution_count": 140,
   "metadata": {},
   "outputs": [],
   "source": [
    "def calculator_function():\n",
    "    first_num = int(input(\"Please enter a number that is positive or negative or zero\"))\n",
    "    second_num = int(input(\"Please enter a number that is positive or negative, but CANNOT be zero\"))\n",
    "    operation_to_do = input(\"Please enter + to ADD or s to - or / to DIVIDE or * to MULTIPLY or ** to EXPONENTIATE, or q to Quit\")\n",
    "    calculate(first_num, second_num, operation_to_do)\n",
    "\n",
    "def calculate(num1, num2, operation):\n",
    "    if operation == \"+\":\n",
    "        print(f\"{num1} + {num2} = {num1 + num2}\")\n",
    "    elif operation == \"-\" :\n",
    "        print(f\"{num1} - {num2} = {num1 - num2}\")\n",
    "    elif operation == \"**\":\n",
    "        print(f\"{num1} ^ {num2} = {num1 ** num2}\")\n",
    "    elif operation == \"*\":\n",
    "        print(f\"{num1} * {num2} = {num1 * num2}\")\n",
    "    elif operation == \"-\":\n",
    "        print(f\"{num1} - {num2} = {num1 - num2}\")\n",
    "    "
   ]
  },
  {
   "cell_type": "code",
   "execution_count": 141,
   "metadata": {},
   "outputs": [
    {
     "name": "stdout",
     "output_type": "stream",
     "text": [
      "2 ^ 64 = 18446744073709551616\n"
     ]
    }
   ],
   "source": [
    "calculator_function()\n"
   ]
  },
  {
   "cell_type": "code",
   "execution_count": null,
   "metadata": {},
   "outputs": [],
   "source": []
  }
 ],
 "metadata": {
  "interpreter": {
   "hash": "bbd44b1c2c3135a4f1eee1af39abdc9637d97b18f8e070f0b414e53e003f559b"
  },
  "kernelspec": {
   "display_name": "Python 3.9.7 ('base')",
   "language": "python",
   "name": "python3"
  },
  "language_info": {
   "codemirror_mode": {
    "name": "ipython",
    "version": 3
   },
   "file_extension": ".py",
   "mimetype": "text/x-python",
   "name": "python",
   "nbconvert_exporter": "python",
   "pygments_lexer": "ipython3",
   "version": "3.10.2"
  },
  "orig_nbformat": 4
 },
 "nbformat": 4,
 "nbformat_minor": 2
}
