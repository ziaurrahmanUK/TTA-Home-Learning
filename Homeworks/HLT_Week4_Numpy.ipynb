{
 "cells": [
  {
   "cell_type": "markdown",
   "metadata": {},
   "source": [
    "### Task 1\n",
    "Create a 1D array of numbers from 0 to 9\n",
    "\n"
   ]
  },
  {
   "cell_type": "code",
   "execution_count": 256,
   "metadata": {},
   "outputs": [
    {
     "data": {
      "text/plain": [
       "array([0, 1, 2, 3, 4, 5, 6, 7, 8, 9])"
      ]
     },
     "execution_count": 256,
     "metadata": {},
     "output_type": "execute_result"
    }
   ],
   "source": [
    "import numpy as np\n",
    "my_array = np.arange(10)\n",
    "my_array"
   ]
  },
  {
   "cell_type": "markdown",
   "metadata": {},
   "source": [
    "### Task 2\n",
    "Create a 3×3 NumPy array of all Boolean value Trues"
   ]
  },
  {
   "cell_type": "code",
   "execution_count": 257,
   "metadata": {},
   "outputs": [
    {
     "data": {
      "text/plain": [
       "array([[ True,  True,  True],\n",
       "       [ True,  True,  True],\n",
       "       [ True,  True,  True]])"
      ]
     },
     "execution_count": 257,
     "metadata": {},
     "output_type": "execute_result"
    }
   ],
   "source": [
    "my_array = np.ones(9, dtype=bool).reshape(3,3)\n",
    "my_array\n"
   ]
  },
  {
   "cell_type": "markdown",
   "metadata": {},
   "source": [
    "### Task 3\n",
    "Extract all odd numbers from array of 1-10\n"
   ]
  },
  {
   "cell_type": "code",
   "execution_count": 258,
   "metadata": {},
   "outputs": [
    {
     "data": {
      "text/plain": [
       "array([1, 3, 5, 7, 9])"
      ]
     },
     "execution_count": 258,
     "metadata": {},
     "output_type": "execute_result"
    }
   ],
   "source": [
    "my_array = np.arange(1,11)\n",
    "odd_nums = my_array[::2]\n",
    "odd_nums\n",
    "\n",
    "# alternatively created using arange function\n",
    "# odds_ARRAY = np.arange(1,11, 2)\n",
    "# odds_ARRAY\n"
   ]
  },
  {
   "cell_type": "markdown",
   "metadata": {},
   "source": [
    "### Task 4\n",
    "Replace all odd numbers in an array of 1-10 with the value -1\n"
   ]
  },
  {
   "cell_type": "code",
   "execution_count": 259,
   "metadata": {},
   "outputs": [
    {
     "data": {
      "text/plain": [
       "array([-1,  2, -1,  4, -1,  6, -1,  8, -1, 10])"
      ]
     },
     "execution_count": 259,
     "metadata": {},
     "output_type": "execute_result"
    }
   ],
   "source": [
    "my_array = np.arange(1,11)\n",
    "my_array[::2]= -1\n",
    "my_array\n"
   ]
  },
  {
   "cell_type": "markdown",
   "metadata": {},
   "source": [
    "### Task 5\n",
    "Convert a 1D array to a 2D array with 2 rows\n"
   ]
  },
  {
   "cell_type": "code",
   "execution_count": 260,
   "metadata": {},
   "outputs": [
    {
     "data": {
      "text/plain": [
       "array([[ 1,  2,  3,  4,  5,  6,  7,  8,  9, 10],\n",
       "       [11, 12, 13, 14, 15, 16, 17, 18, 19, 20]])"
      ]
     },
     "execution_count": 260,
     "metadata": {},
     "output_type": "execute_result"
    }
   ],
   "source": [
    "my_array = np.arange(1,21).reshape(2,-1)\n",
    "my_array"
   ]
  },
  {
   "cell_type": "markdown",
   "metadata": {},
   "source": [
    "### Task 6\n",
    "Create two arrays a and b, stack these two arrays vertically use the  np.dot and np.sum to calculate totals"
   ]
  },
  {
   "cell_type": "code",
   "execution_count": 261,
   "metadata": {},
   "outputs": [
    {
     "data": {
      "text/plain": [
       "array([[0.37454012, 0.95071431, 0.73199394, 0.59865848, 0.15601864],\n",
       "       [0.15599452, 0.05808361, 0.86617615, 0.60111501, 0.70807258],\n",
       "       [0.02058449, 0.96990985, 0.83244264, 0.21233911, 0.18182497],\n",
       "       [0.18340451, 0.30424224, 0.52475643, 0.43194502, 0.29122914],\n",
       "       [0.61185289, 0.13949386, 0.29214465, 0.36636184, 0.45606998],\n",
       "       [0.78517596, 0.19967378, 0.51423444, 0.59241457, 0.04645041],\n",
       "       [0.60754485, 0.17052412, 0.06505159, 0.94888554, 0.96563203],\n",
       "       [0.80839735, 0.30461377, 0.09767211, 0.68423303, 0.44015249]])"
      ]
     },
     "execution_count": 261,
     "metadata": {},
     "output_type": "execute_result"
    }
   ],
   "source": [
    "np.random.seed(seed=42)\n",
    "\n",
    "a = np.random.rand(1,20)\n",
    "a = a.reshape(4, 5)\n",
    "b = np.random.rand(1,20)\n",
    "b = b.reshape(5, 4)\n",
    "\n",
    "vert_stack = np.vstack((a, b.reshape(4,5)))\n",
    "vert_stack"
   ]
  },
  {
   "cell_type": "code",
   "execution_count": 262,
   "metadata": {},
   "outputs": [
    {
     "name": "stdout",
     "output_type": "stream",
     "text": [
      "Shape of a: (4, 5), Shape of b: (5, 4), Num_elements: 20. We will get a 4 by 4 matrix\n"
     ]
    },
    {
     "data": {
      "text/plain": [
       "array([[1.1828687 , 1.41602254, 1.42880868, 1.3035558 ],\n",
       "       [0.8898634 , 0.74714866, 1.64835415, 1.03232265],\n",
       "       [1.01729199, 1.02233336, 1.03487755, 0.89993906],\n",
       "       [0.67865681, 0.727154  , 1.04951146, 0.79049632]])"
      ]
     },
     "execution_count": 262,
     "metadata": {},
     "output_type": "execute_result"
    }
   ],
   "source": [
    "print(f\"Shape of a: {a.shape}, Shape of b: {b.shape}, Num_elements: {a.size}. We will get a 4 by 4 matrix\")\n",
    "dot_prod = np.dot(a,b)\n",
    "dot_prod\n"
   ]
  },
  {
   "cell_type": "code",
   "execution_count": 263,
   "metadata": {},
   "outputs": [
    {
     "name": "stdout",
     "output_type": "stream",
     "text": [
      "9.15404576795571 9.096579285417269\n",
      "[0.73452364 2.28295001 2.95536916 1.84405763 1.33714533] [2.03000281 2.01767789 2.74922834 2.29967025]\n",
      "[2.81192549 2.38944187 2.21710107 1.73557734] [1.40985325 1.95515417 1.41693396 2.78796651 1.5266714 ]\n",
      "[3.5474947  3.09725555 3.92447195 4.4359526  3.24545025] [4.67784872 4.52739103 4.9747392  4.07064609]\n"
     ]
    }
   ],
   "source": [
    "print(a.sum(), b.sum()) # sum of all elements in each matrix\n",
    "print(a.sum(axis=0), b.sum(axis = 0))  # sums of the individual matrices on columns\n",
    "print(a.sum(axis=1), b.sum(axis=1))  # sums of the individual matrices  on rows\n",
    "\n",
    "c = a + b.reshape(4, 5) # added the matrices as was not sure if you meant the sums of the combined matrices a and b\n",
    "c_tot_ax0 = np.sum(c, axis=0)\n",
    "c_tot_ax1 = np.sum(c, axis=1)\n",
    "\n",
    "print(c_tot_ax0, c_tot_ax1)  # not sure if you wanted the sums of the matrixes combined"
   ]
  },
  {
   "cell_type": "markdown",
   "metadata": {},
   "source": [
    "### Task 7\n",
    "Create the following pattern without hardcoding. Use only NumPy  functions.\n",
    "1.  array( 1, 1, 1, 2, 2, 2, 3, 3, 3, 1, 2, 3, 1, 2, 3, )\n",
    "\n"
   ]
  },
  {
   "cell_type": "code",
   "execution_count": 264,
   "metadata": {},
   "outputs": [
    {
     "data": {
      "text/plain": [
       "array([1., 1., 1., 2., 2., 2., 3., 3., 3., 1., 2., 3., 1., 2., 3., 1., 2.,\n",
       "       3.])"
      ]
     },
     "execution_count": 264,
     "metadata": {},
     "output_type": "execute_result"
    }
   ],
   "source": [
    "ones  = np.ones(3)\n",
    "twos = np.ones(3) * 2\n",
    "threes = np.ones(3) * 3\n",
    "onesToThree = np.tile([1, 2, 3], 3) # repeats 123 three times\n",
    "\n",
    "my_new_array = np.hstack((ones, twos, threes, onesToThree)) # concatenates the 111, 222, 333 with the 123 repeated\n",
    "my_new_array"
   ]
  },
  {
   "cell_type": "markdown",
   "metadata": {},
   "source": [
    "### Task 8\n",
    "\n",
    "In two arrays a ( 1,2,3,4,5) and b ( 4,5,6,7,8,9) – remove all repeating  items present in array b\n"
   ]
  },
  {
   "cell_type": "code",
   "execution_count": 265,
   "metadata": {},
   "outputs": [
    {
     "name": "stdout",
     "output_type": "stream",
     "text": [
      "[1 2 3 4 5 6 7 8 9]\n"
     ]
    }
   ],
   "source": [
    "a = np.array(list(range(1,6)))\n",
    "b = np.array(list(range(4,10)))\n",
    "c = np.union1d(a, b)\n",
    "print(c)"
   ]
  },
  {
   "cell_type": "markdown",
   "metadata": {},
   "source": [
    "### Task 9\n",
    "Get all items between 3 and 7 from a and b and sum them together\n"
   ]
  },
  {
   "cell_type": "code",
   "execution_count": 266,
   "metadata": {},
   "outputs": [
    {
     "name": "stdout",
     "output_type": "stream",
     "text": [
      "items 3 to 7: [3 4 5 6 7],  SUM IS : 25\n"
     ]
    }
   ],
   "source": [
    "items3to7 = c[2:7]\n",
    "\n",
    "print(f\"items 3 to 7: {items3to7},  SUM IS : {np.sum(items3to7)}\" )"
   ]
  }
 ],
 "metadata": {
  "interpreter": {
   "hash": "aee8b7b246df8f9039afb4144a1f6fd8d2ca17a180786b69acc140d282b71a49"
  },
  "kernelspec": {
   "display_name": "Python 3.10.2 64-bit",
   "language": "python",
   "name": "python3"
  },
  "language_info": {
   "codemirror_mode": {
    "name": "ipython",
    "version": 3
   },
   "file_extension": ".py",
   "mimetype": "text/x-python",
   "name": "python",
   "nbconvert_exporter": "python",
   "pygments_lexer": "ipython3",
   "version": "3.9.7"
  },
  "orig_nbformat": 4
 },
 "nbformat": 4,
 "nbformat_minor": 2
}
