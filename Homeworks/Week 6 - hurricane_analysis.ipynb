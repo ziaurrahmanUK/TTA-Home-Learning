{
 "cells": [
  {
   "cell_type": "code",
   "execution_count": 165,
   "metadata": {},
   "outputs": [],
   "source": [
    "# names of hurricanes\n",
    "names = ['Cuba I', 'San Felipe II Okeechobee', 'Bahamas', 'Cuba II', 'CubaBrownsville', 'Tampico', 'Labor Day', 'New England', 'Carol', 'Janet', 'Carla', 'Hattie', 'Beulah', 'Camille', 'Edith', 'Anita', 'David', 'Allen', 'Gilbert', 'Hugo', 'Andrew', 'Mitch', 'Isabel', 'Ivan', 'Emily', 'Katrina', 'Rita', 'Wilma', 'Dean', 'Felix', 'Matthew', 'Irma', 'Maria', 'Michael']\n",
    "\n",
    "# months of hurricanes\n",
    "months = ['October', 'September', 'September', 'November', 'August', 'September', 'September', 'September', 'September', 'September', 'September', 'October', 'September', 'August', 'September', 'September', 'August', 'August', 'September', 'September', 'August', 'October', 'September', 'September', 'July', 'August', 'September', 'October', 'August', 'September', 'October', 'September', 'September', 'October']\n",
    "\n",
    "# years of hurricanes\n",
    "years = [1924, 1928, 1932, 1932, 1933, 1933, 1935, 1938, 1953, 1955, 1961, 1961, 1967, 1969, 1971, 1977, 1979, 1980, 1988, 1989, 1992, 1998, 2003, 2004, 2005, 2005, 2005, 2005, 2007, 2007, 2016, 2017, 2017, 2018]\n",
    "\n",
    "# maximum sustained winds (mph) of hurricanes\n",
    "max_sustained_winds = [165, 160, 160, 175, 160, 160, 185, 160, 160, 175, 175, 160, 160, 175, 160, 175, 175, 190, 185, 160, 175, 180, 165, 165, 160, 175, 180, 185, 175, 175, 165, 180, 175, 160]\n",
    "\n",
    "# areas affected by each hurricane\n",
    "areas_affected = [['Central America', 'Mexico', 'Cuba', 'Florida', 'The Bahamas'], ['Lesser Antilles', 'The Bahamas', 'United States East Coast', 'Atlantic Canada'], ['The Bahamas', 'Northeastern United States'], ['Lesser Antilles', 'Jamaica', 'Cayman Islands', 'Cuba', 'The Bahamas', 'Bermuda'], ['The Bahamas', 'Cuba', 'Florida', 'Texas', 'Tamaulipas'], ['Jamaica', 'Yucatn Peninsula'], ['The Bahamas', 'Florida', 'Georgia', 'The Carolinas', 'Virginia'], ['Southeastern United States', 'Northeastern United States', 'Southwestern Quebec'], ['Bermuda', 'New England', 'Atlantic Canada'], ['Lesser Antilles', 'Central America'], ['Texas', 'Louisiana', 'Midwestern United States'], ['Central America'], ['The Caribbean', 'Mexico', 'Texas'], ['Cuba', 'United States Gulf Coast'], ['The Caribbean', 'Central America', 'Mexico', 'United States Gulf Coast'], ['Mexico'], ['The Caribbean', 'United States East coast'], ['The Caribbean', 'Yucatn Peninsula', 'Mexico', 'South Texas'], ['Jamaica', 'Venezuela', 'Central America', 'Hispaniola', 'Mexico'], ['The Caribbean', 'United States East Coast'], ['The Bahamas', 'Florida', 'United States Gulf Coast'], ['Central America', 'Yucatn Peninsula', 'South Florida'], ['Greater Antilles', 'Bahamas', 'Eastern United States', 'Ontario'], ['The Caribbean', 'Venezuela', 'United States Gulf Coast'], ['Windward Islands', 'Jamaica', 'Mexico', 'Texas'], ['Bahamas', 'United States Gulf Coast'], ['Cuba', 'United States Gulf Coast'], ['Greater Antilles', 'Central America', 'Florida'], ['The Caribbean', 'Central America'], ['Nicaragua', 'Honduras'], ['Antilles', 'Venezuela', 'Colombia', 'United States East Coast', 'Atlantic Canada'], ['Cape Verde', 'The Caribbean', 'British Virgin Islands', 'U.S. Virgin Islands', 'Cuba', 'Florida'], ['Lesser Antilles', 'Virgin Islands', 'Puerto Rico', 'Dominican Republic', 'Turks and Caicos Islands'], ['Central America', 'United States Gulf Coast (especially Florida Panhandle)']]\n",
    "\n",
    "# damages (USD($)) of hurricanes\n",
    "damages = ['Damages not recorded', '100M', 'Damages not recorded', '40M', '27.9M', '5M', 'Damages not recorded', '306M', '2M', '65.8M', '326M', '60.3M', '208M', '1.42B', '25.4M', 'Damages not recorded', '1.54B', '1.24B', '7.1B', '10B', '26.5B', '6.2B', '5.37B', '23.3B', '1.01B', '125B', '12B', '29.4B', '1.76B', '720M', '15.1B', '64.8B', '91.6B', '25.1B']\n",
    "\n",
    "# deaths for each hurricane\n",
    "deaths = [90,4000,16,3103,179,184,408,682,5,1023,43,319,688,259,37,11,2068,269,318,107,65,19325,51,124,17,1836,125,87,45,133,603,138,3057,74]"
   ]
  },
  {
   "cell_type": "markdown",
   "metadata": {},
   "source": [
    "Hurricanes, also known as cyclones or typhoons, are one of the most powerful forces of nature on Earth. Due to climate change caused by human activity, the number and intensity of hurricanes has risen, calling for better preparation by the many communities that are devastated by them. As a concerned environmentalist, you want to look at data about the most powerful hurricanes that have occurred.\n",
    "\n",
    "Begin by looking at the damages list. The list contains strings representing the total cost in USD($) caused by 34 category 5 hurricanes (wind speeds ≥ 157 mph (252 km/h )) in the Atlantic region. For some of the hurricanes, damage data was not recorded (\"Damages not recorded\"), while the rest are written in the format \"Prefix-B/M\", where B stands for billions (1000000000) and M stands for millions (1000000).\n",
    "\n",
    "Write a function that returns a new list of updated damages where the recorded data is converted to float values and the missing data is retained as \"Damages not recorded\".\n",
    "\n",
    "Test your function with the data stored in damages."
   ]
  },
  {
   "cell_type": "code",
   "execution_count": 166,
   "metadata": {},
   "outputs": [],
   "source": [
    "def damages_converter(data):\n",
    "    conversion = {\"M\": 1000000, \"B\": 1000000000}    \n",
    "    new_damages_list = []\n",
    "\n",
    "    for value in data:\n",
    "        if value == 'Damages not recorded':\n",
    "            new_damages_list.append(value)\n",
    "        elif 'B' in value:\n",
    "            value_split_b = value.split('B')\n",
    "            new_damages_list.append(float(value_split_b[0]) * conversion.get('B'))\n",
    "        elif 'M' in value:\n",
    "            value_split_m = value.split('M')\n",
    "            new_damages_list.append(float(value_split_m[0]) * conversion.get('M'))\n",
    "        else:\n",
    "            new_damages_list.append('something went wrong')\n",
    "    return new_damages_list\n",
    "\n",
    "updated_damages = damages_converter(damages)"
   ]
  },
  {
   "cell_type": "code",
   "execution_count": 167,
   "metadata": {},
   "outputs": [
    {
     "name": "stdout",
     "output_type": "stream",
     "text": [
      "['Damages not recorded', 100000000.0, 'Damages not recorded', 40000000.0, 27900000.0, 5000000.0, 'Damages not recorded', 306000000.0, 2000000.0, 65800000.0, 326000000.0, 60300000.0, 208000000.0, 1420000000.0, 25400000.0, 'Damages not recorded', 1540000000.0, 1240000000.0, 7100000000.0, 10000000000.0, 26500000000.0, 6200000000.0, 5370000000.0, 23300000000.0, 1010000000.0, 125000000000.0, 12000000000.0, 29400000000.0, 1760000000.0, 720000000.0, 15100000000.0, 64800000000.0, 91600000000.0, 25100000000.0]\n"
     ]
    }
   ],
   "source": [
    "print(updated_damages)\n"
   ]
  },
  {
   "cell_type": "markdown",
   "metadata": {},
   "source": [
    "Additional data collected on the 34 strongest Atlantic hurricanes are provided in a series of lists. The data includes:\n",
    "\n",
    "names: names of the hurricanes\n",
    "months: months in which the hurricanes occurred\n",
    "years: years in which the hurricanes occurred\n",
    "max_sustained_winds: maximum sustained winds (miles per hour) of the hurricanes\n",
    "areas_affected: list of different areas affected by each of the hurricanes\n",
    "deaths: total number of deaths caused by each of the hurricanes\n",
    "The data is organized such that the data at each index, from 0 to 33, corresponds to the same hurricane.\n",
    "\n",
    "For example, names[0] yields the “Cuba I” hurricane, which ouccred in months[0] (October) years[0] (1924).\n",
    "\n",
    "Write a function that constructs a dictionary made out of the lists, where the keys of the dictionary are the names of the hurricanes, and the values are dictionaries themselves containing a key for each piece of data (Name, Month, Year,Max Sustained Wind, Areas Affected, Damage, Death) about the hurricane.\n",
    "\n",
    "Thus the key \"Cuba I\" would have the value: {'Name': 'Cuba I', 'Month': 'October', 'Year': 1924, 'Max Sustained Wind': 165, 'Areas Affected': ['Central America', 'Mexico', 'Cuba', 'Florida', 'The Bahamas'], 'Damage': 'Damages not recorded', 'Deaths': 90}.\n",
    "\n",
    "Test your function on the lists of data provided."
   ]
  },
  {
   "cell_type": "code",
   "execution_count": 168,
   "metadata": {},
   "outputs": [],
   "source": [
    "# Create a Table\n",
    "myDict = {names: {} for names in names}\n",
    "\n",
    "# Create and view the hurricanes dictionary\n",
    "for i, value in enumerate(myDict):\n",
    "    myDict[value] = {\"Name\": value, \"Month\": months[i], \"Year\" : years[i], \"Max Sustained Wind\": max_sustained_winds[i], \"Areas Affected\" : areas_affected[i], \"Damage\": updated_damages[i], \"Deaths\" : deaths[i],  \n",
    "    }"
   ]
  },
  {
   "cell_type": "markdown",
   "metadata": {},
   "source": [
    "In addition to organizing the hurricanes in a dictionary with names as the key, you want to be able to organize the hurricanes by year.\n",
    "\n",
    "Write a function that converts the current dictionary of hurricanes to a new dictionary, where the keys are years and the values are lists containing a dictionary for each hurricane that occurred in that year.\n",
    "\n",
    "For example, the key 1932 would yield the value: [{'Name': 'Bahamas', 'Month': 'September', 'Year': 1932, 'Max Sustained Wind': 160, 'Areas Affected': ['The Bahamas', 'Northeastern United States'], 'Damage': 'Damages not recorded', 'Deaths': 16}, {'Name': 'Cuba II', 'Month': 'November', 'Year': 1932, 'Max Sustained Wind': 175, 'Areas Affected': ['Lesser Antilles', 'Jamaica', 'Cayman Islands', 'Cuba', 'The Bahamas', 'Bermuda'], 'Damage': 40000000.0, 'Deaths': 3103}].\n",
    "\n",
    "Test your function on your hurricane dictionary."
   ]
  },
  {
   "cell_type": "code",
   "execution_count": 169,
   "metadata": {},
   "outputs": [],
   "source": [
    "def hurricane_converter(hurr_dict):\n",
    "    new_hurr_dict = {}\n",
    "    for hurricane in hurr_dict.values():\n",
    "        current_year = hurricane[\"Year\"]\n",
    "        current_cane = hurricane\n",
    "\n",
    "        if current_year in new_hurr_dict.keys():\n",
    "            new_hurr_dict[current_year].append(current_cane)\n",
    "        else:\n",
    "            new_hurr_dict[current_year] = [current_cane]\n",
    "\n",
    "    return dict(sorted(new_hurr_dict.items()))\n"
   ]
  },
  {
   "cell_type": "code",
   "execution_count": 170,
   "metadata": {},
   "outputs": [
    {
     "name": "stdout",
     "output_type": "stream",
     "text": [
      "[{'Name': 'Bahamas', 'Month': 'September', 'Year': 1932, 'Max Sustained Wind': 160, 'Areas Affected': ['The Bahamas', 'Northeastern United States'], 'Damage': 'Damages not recorded', 'Deaths': 16}, {'Name': 'Cuba II', 'Month': 'November', 'Year': 1932, 'Max Sustained Wind': 175, 'Areas Affected': ['Lesser Antilles', 'Jamaica', 'Cayman Islands', 'Cuba', 'The Bahamas', 'Bermuda'], 'Damage': 40000000.0, 'Deaths': 3103}]\n"
     ]
    }
   ],
   "source": [
    "sorted_hurr_dict = hurricane_converter(myDict)\n",
    "print(sorted_hurr_dict[1932])"
   ]
  },
  {
   "cell_type": "markdown",
   "metadata": {},
   "source": [
    "\n",
    "You believe that knowing how often each of the areas of the Atlantic are affected by these strong hurricanes is important for making preparations for future hurricanes.\n",
    "\n",
    "Write a function that counts how often each area is listed as an affected area of a hurricane. Store and return the results in a dictionary where the keys are the affected areas and the values are counts of how many times the areas were affected.\n",
    "\n",
    "Test your function on your hurricane dictionary."
   ]
  },
  {
   "cell_type": "code",
   "execution_count": 171,
   "metadata": {},
   "outputs": [],
   "source": [
    "def count_areas_affected_list(hurr_dict):\n",
    "    dict_to_return = {}\n",
    "\n",
    "    for hurricane in hurr_dict.values():\n",
    "        # print(hurricane)\n",
    "        for areas in hurricane['Areas Affected']:\n",
    "            if areas not in dict_to_return.keys():\n",
    "                dict_to_return[areas] = 1\n",
    "            else:\n",
    "                dict_to_return[areas] += 1\n",
    "\n",
    "    return dict_to_return\n",
    "areas_affected_dict = count_areas_affected_list(myDict)"
   ]
  },
  {
   "cell_type": "code",
   "execution_count": 172,
   "metadata": {},
   "outputs": [
    {
     "name": "stdout",
     "output_type": "stream",
     "text": [
      "{'Central America': 9, 'Mexico': 7, 'Cuba': 6, 'Florida': 6, 'The Bahamas': 7, 'Lesser Antilles': 4, 'United States East Coast': 3, 'Atlantic Canada': 3, 'Northeastern United States': 2, 'Jamaica': 4, 'Cayman Islands': 1, 'Bermuda': 2, 'Texas': 4, 'Tamaulipas': 1, 'Yucatn Peninsula': 3, 'Georgia': 1, 'The Carolinas': 1, 'Virginia': 1, 'Southeastern United States': 1, 'Southwestern Quebec': 1, 'New England': 1, 'Louisiana': 1, 'Midwestern United States': 1, 'The Caribbean': 8, 'United States Gulf Coast': 6, 'United States East coast': 1, 'South Texas': 1, 'Venezuela': 3, 'Hispaniola': 1, 'South Florida': 1, 'Greater Antilles': 2, 'Bahamas': 2, 'Eastern United States': 1, 'Ontario': 1, 'Windward Islands': 1, 'Nicaragua': 1, 'Honduras': 1, 'Antilles': 1, 'Colombia': 1, 'Cape Verde': 1, 'British Virgin Islands': 1, 'U.S. Virgin Islands': 1, 'Virgin Islands': 1, 'Puerto Rico': 1, 'Dominican Republic': 1, 'Turks and Caicos Islands': 1, 'United States Gulf Coast (especially Florida Panhandle)': 1}\n"
     ]
    }
   ],
   "source": [
    "print(areas_affected_dict)"
   ]
  },
  {
   "cell_type": "code",
   "execution_count": 173,
   "metadata": {},
   "outputs": [],
   "source": [
    "# myDict['Cuba I'] "
   ]
  },
  {
   "cell_type": "markdown",
   "metadata": {},
   "source": [
    "Write a function that finds the area affected by the most hurricanes, and how often it was hit.\n",
    "Test your function on your affected area dictionary."
   ]
  },
  {
   "cell_type": "code",
   "execution_count": 174,
   "metadata": {},
   "outputs": [],
   "source": [
    "def most_affected_area(affected_dict):\n",
    "    max_area_name = \"Ziaur\"\n",
    "    highest_affected_area_count = 0\n",
    "        \n",
    "    for area, count in affected_dict.items():\n",
    "        if count > highest_affected_area_count:\n",
    "            highest_affected_area_count = count\n",
    "            max_area_name = area\n",
    "    \n",
    "    return f\"The most affected area is {max_area_name} with a count of {highest_affected_area_count}\"\n",
    "most_affected = most_affected_area(areas_affected_dict)"
   ]
  },
  {
   "cell_type": "code",
   "execution_count": 175,
   "metadata": {},
   "outputs": [],
   "source": [
    "# print(most_affected)"
   ]
  },
  {
   "cell_type": "markdown",
   "metadata": {},
   "source": [
    "\n",
    "Write a function that finds the hurricane that caused the greatest number of deaths, and how many deaths it caused.\n",
    "\n",
    "Test your function on your hurricane dictionary."
   ]
  },
  {
   "cell_type": "code",
   "execution_count": 176,
   "metadata": {},
   "outputs": [
    {
     "data": {
      "text/plain": [
       "{'Name': 'Cuba I',\n",
       " 'Month': 'October',\n",
       " 'Year': 1924,\n",
       " 'Max Sustained Wind': 165,\n",
       " 'Areas Affected': ['Central America',\n",
       "  'Mexico',\n",
       "  'Cuba',\n",
       "  'Florida',\n",
       "  'The Bahamas'],\n",
       " 'Damage': 'Damages not recorded',\n",
       " 'Deaths': 90}"
      ]
     },
     "execution_count": 176,
     "metadata": {},
     "output_type": "execute_result"
    }
   ],
   "source": [
    "myDict['Cuba I'] "
   ]
  },
  {
   "cell_type": "code",
   "execution_count": 177,
   "metadata": {},
   "outputs": [],
   "source": [
    "def find_greatest_deaths_hurricane(hurr_dict):\n",
    "    highest_deaths = 0\n",
    "    hurricane_name = \"Ziaur\"\n",
    "    for names , current_hurr in hurr_dict.items():\n",
    "        # print(current_hurr)\n",
    "        for name, value in current_hurr.items():\n",
    "            # print(value)\n",
    "            if current_hurr[\"Deaths\"] > highest_deaths:\n",
    "                highest_deaths = current_hurr[\"Deaths\"]\n",
    "                hurricane_name = current_hurr[\"Name\"]\n",
    "\n",
    "    return f\"The hurricane that caused the most deaths was {hurricane_name} with {highest_deaths} deaths.\"\n"
   ]
  },
  {
   "cell_type": "code",
   "execution_count": 178,
   "metadata": {},
   "outputs": [
    {
     "name": "stdout",
     "output_type": "stream",
     "text": [
      "The hurricane that caused the most deaths was Mitch with 19325 deaths.\n"
     ]
    }
   ],
   "source": [
    "highest_deaths = find_greatest_deaths_hurricane(myDict)\n",
    "print(highest_deaths)"
   ]
  },
  {
   "cell_type": "markdown",
   "metadata": {},
   "source": [
    "Just as hurricanes are rated by their windspeed, you want to try rating hurricanes based on other metrics.\n",
    "\n",
    "Write a function that rates hurricanes on a mortality scale according to the following ratings, where the key is the rating and the value is the upper bound of deaths for that rating."
   ]
  },
  {
   "cell_type": "markdown",
   "metadata": {},
   "source": [
    "mortality_scale = {0: 0,\n",
    "                   1: 100,\n",
    "                   2: 500,\n",
    "                   3: 1000,\n",
    "                   4: 10000}\n",
    "\n",
    "For example, a hurricane with a 1 mortality rating would have resulted in greater than 0 but less than or equal to 100 deaths. A hurricane with a 5 mortality rating would have resulted in greater than 10000 deaths.\n",
    "\n",
    "Store the hurricanes in a new dictionary where the keys are mortality ratings and the values are lists containing a dictionary for each hurricane that falls into that mortality rating.\n",
    "\n",
    "Test your function on your hurricane dictionary.                   "
   ]
  },
  {
   "cell_type": "code",
   "execution_count": 179,
   "metadata": {},
   "outputs": [],
   "source": [
    "def mortality_ratings(hurr_dict):\n",
    "    # empty already formatted dictionary to be returned\n",
    "    dict_to_return = {0 : [], 1 : [], 2: [], 3 : [], 4 : [], 5: []}\n",
    "\n",
    "    # we need to access the death values from the hurricanes dictionary first\n",
    "    for values in hurr_dict.values():\n",
    "        # print(values[\"Deaths\"])\n",
    "    # Then we must calculate the rating\n",
    "        if values[\"Deaths\"] > 10000 :\n",
    "            dict_to_return[5].append(values[\"Name\"])\n",
    "        elif values[\"Deaths\"] > 1000 and values[\"Deaths\"] <= 10000 :\n",
    "            dict_to_return[4].append(values[\"Name\"])\n",
    "        elif values[\"Deaths\"] > 500 and values[\"Deaths\"] <= 1000 :\n",
    "            dict_to_return[3].append(values[\"Name\"])\n",
    "        elif values[\"Deaths\"] > 100 and values[\"Deaths\"] <= 500 :\n",
    "            dict_to_return[2].append(values[\"Name\"])\n",
    "        elif values[\"Deaths\"] > 0 and values[\"Deaths\"] <= 100 :\n",
    "            dict_to_return[1].append(values[\"Name\"])\n",
    "        else:\n",
    "            dict_to_return[0].append(values[\"Name\"]) # if doesnt fall into the other categories then assume it is zero\n",
    "\n",
    "    return dict_to_return # return the final dict"
   ]
  },
  {
   "cell_type": "code",
   "execution_count": 180,
   "metadata": {},
   "outputs": [],
   "source": [
    "hurricane_ratings = mortality_ratings(myDict)\n",
    "# print(hurricane_ratings)"
   ]
  },
  {
   "cell_type": "markdown",
   "metadata": {},
   "source": [
    "\n",
    "Write a function that finds the hurricane that caused the greatest damage, and how costly it was.\n",
    "\n",
    "Test your function on your hurricane dictionary."
   ]
  },
  {
   "cell_type": "code",
   "execution_count": 181,
   "metadata": {},
   "outputs": [],
   "source": [
    "def greatest_damage_finder(hurr_dict): # pass in the dictionary and return the hurricane name with the largest damage, excluding 'Damages not recorded'\n",
    "    # initialise damage to be zero\n",
    "    damage = 0\n",
    "    hurricane_name = \"Ziaur\"\n",
    "    # locate the damages records\n",
    "    for hurricanes in hurr_dict.values():\n",
    "        # get the damages value and compare with initialised value\n",
    "        if hurricanes[\"Damage\"] == 'Damages not recorded':\n",
    "            continue\n",
    "        else:\n",
    "            if hurricanes[\"Damage\"] > damage:\n",
    "                damage = hurricanes[\"Damage\"]\n",
    "                hurricane_name = hurricanes[\"Name\"]\n",
    "    return f\"The hurricane {hurricane_name} caused the most damage of ${damage}.\"\n"
   ]
  },
  {
   "cell_type": "code",
   "execution_count": 182,
   "metadata": {},
   "outputs": [],
   "source": [
    "# largest_damage = greatest_damage_finder(myDict)\n",
    "# print(largest_damage)"
   ]
  },
  {
   "cell_type": "code",
   "execution_count": 183,
   "metadata": {},
   "outputs": [
    {
     "data": {
      "text/plain": [
       "{'Name': 'Cuba I',\n",
       " 'Month': 'October',\n",
       " 'Year': 1924,\n",
       " 'Max Sustained Wind': 165,\n",
       " 'Areas Affected': ['Central America',\n",
       "  'Mexico',\n",
       "  'Cuba',\n",
       "  'Florida',\n",
       "  'The Bahamas'],\n",
       " 'Damage': 'Damages not recorded',\n",
       " 'Deaths': 90}"
      ]
     },
     "execution_count": 183,
     "metadata": {},
     "output_type": "execute_result"
    }
   ],
   "source": [
    "myDict['Cuba I'] "
   ]
  },
  {
   "cell_type": "markdown",
   "metadata": {},
   "source": [
    "Write a function that rates hurricanes on a damage scale according to the following ratings, where the key is the rating and the value is the upper bound of damage for that rating.\n",
    "For example, a hurricane with a 1 damage rating would have resulted in damages greater than 0 USD but less than or equal to 100000000 USD. A hurricane with a 5 damage rating would have resulted in damages greater than 50000000000 USD (talk about a lot of money).\n",
    "\n",
    "Store the hurricanes in a new dictionary where the keys are damage ratings and the values are lists containing a dictionary for each hurricane that falls into that damage rating."
   ]
  },
  {
   "cell_type": "code",
   "execution_count": 210,
   "metadata": {},
   "outputs": [],
   "source": [
    "'''damage_scale = {0: 0,\n",
    "                1: 100000000,\n",
    "                2: 1000000000,\n",
    "                3: 10000000000,\n",
    "                4: 50000000000}\n",
    "'''\n",
    "\n",
    "def damage_ratings(hurr_dict):\n",
    "    # empty already formatted dictionary to be returned\n",
    "    dict_to_return = {0 : [], 1 : [], 2: [], 3 : [], 4 : [], 5: []}\n",
    "\n",
    "    # we need to access the death values from the hurricanes dictionary first\n",
    "    for values in hurr_dict.values():\n",
    "        \n",
    "    # Then we must calculate the rating\n",
    "        if values[\"Damage\"]  == 'Damages not recorded':\n",
    "            dict_to_return[0].append(values[\"Name\"])        \n",
    "        elif values[\"Damage\"] > 50000000000 :\n",
    "            dict_to_return[5].append(values[\"Name\"])\n",
    "        elif values[\"Damage\"] > 10000000000 and values[\"Damage\"] <= 50000000000 :\n",
    "            dict_to_return[4].append(values[\"Name\"])\n",
    "        elif values[\"Damage\"] > 1000000000 and values[\"Damage\"] <= 10000000000 :\n",
    "            dict_to_return[3].append(values[\"Name\"])\n",
    "        elif values[\"Damage\"] > 100000000 and values[\"Damage\"] <= 1000000000 :\n",
    "            dict_to_return[2].append(values[\"Name\"])\n",
    "        elif values[\"Damage\"] > 0 and values[\"Damage\"] <= 100000000 :\n",
    "            dict_to_return[1].append(values[\"Name\"])\n",
    "        else:\n",
    "            dict_to_return[0].append(values[\"Name\"]) # if doesnt fall into the other categories then assume it is zero or 'damages not recorded'\n",
    "\n",
    "    return dict_to_return # return the final dict"
   ]
  },
  {
   "cell_type": "code",
   "execution_count": 211,
   "metadata": {},
   "outputs": [
    {
     "name": "stdout",
     "output_type": "stream",
     "text": [
      "{0: ['Cuba I', 'Bahamas', 'Labor Day', 'Anita'], 1: ['San Felipe II Okeechobee', 'Cuba II', 'CubaBrownsville', 'Tampico', 'Carol', 'Janet', 'Hattie', 'Edith'], 2: ['New England', 'Carla', 'Beulah', 'Felix'], 3: ['Camille', 'David', 'Allen', 'Gilbert', 'Hugo', 'Mitch', 'Isabel', 'Emily', 'Dean'], 4: ['Andrew', 'Ivan', 'Rita', 'Wilma', 'Matthew', 'Michael'], 5: ['Katrina', 'Irma', 'Maria']}\n"
     ]
    }
   ],
   "source": [
    "damage_ratings_dict = damage_ratings(myDict)\n",
    "print(damage_ratings_dict)"
   ]
  },
  {
   "cell_type": "code",
   "execution_count": null,
   "metadata": {},
   "outputs": [],
   "source": []
  }
 ],
 "metadata": {
  "interpreter": {
   "hash": "51785c74230e6384e41df094c48c18fde00cf6ec68dc6e31ed41f8a90d6b45cf"
  },
  "kernelspec": {
   "display_name": "Python 3.8.10 64-bit (windows store)",
   "language": "python",
   "name": "python3"
  },
  "language_info": {
   "codemirror_mode": {
    "name": "ipython",
    "version": 3
   },
   "file_extension": ".py",
   "mimetype": "text/x-python",
   "name": "python",
   "nbconvert_exporter": "python",
   "pygments_lexer": "ipython3",
   "version": "3.8.10"
  },
  "orig_nbformat": 4
 },
 "nbformat": 4,
 "nbformat_minor": 2
}
